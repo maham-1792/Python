{
 "cells": [
  {
   "cell_type": "markdown",
   "id": "829e5193",
   "metadata": {},
   "source": [
    "### Assignment-07 (Exceptions)\n",
    "- Change the notebook name with your name and Roll Number.\n",
    "- Try this as your own, no chatgpt (it's for your learning)\n",
    "- after completing the assignment, submit this book on google class room."
   ]
  },
  {
   "cell_type": "markdown",
   "id": "5020de16",
   "metadata": {},
   "source": [
    "Write a Python program that demonstrates a simple try-except block to handle a ZeroDivisionError."
   ]
  },
  {
   "cell_type": "code",
   "execution_count": 1,
   "id": "b2481e98",
   "metadata": {},
   "outputs": [
    {
     "name": "stdout",
     "output_type": "stream",
     "text": [
      "Result of division: 5.0\n",
      "Error: Cannot divide by zero!\n"
     ]
    }
   ],
   "source": [
    "def divide_numbers(dividend, divisor):\n",
    "    try:\n",
    "        result = dividend / divisor\n",
    "        print(f\"Result of division: {result}\")\n",
    "    except ZeroDivisionError:\n",
    "        print(\"Error: Cannot divide by zero!\")\n",
    "\n",
    "# Example usage:\n",
    "try:\n",
    "    # Attempt to divide 10 by 2\n",
    "    divide_numbers(10, 2)\n",
    "    \n",
    "    # Attempt to divide 5 by 0 (will trigger the ZeroDivisionError)\n",
    "    divide_numbers(5, 0)\n",
    "except Exception as e:\n",
    "    print(f\"Caught an exception: {type(e).__name__}: {e}\")\n"
   ]
  },
  {
   "cell_type": "markdown",
   "id": "510c0b9e",
   "metadata": {},
   "source": [
    "What is the purpose of the else clause in a try-except block? Provide an example."
   ]
  },
  {
   "cell_type": "code",
   "execution_count": 2,
   "id": "19e00491",
   "metadata": {},
   "outputs": [
    {
     "name": "stdout",
     "output_type": "stream",
     "text": [
      "Result of division: 5.0\n",
      "Error: Cannot divide by zero!\n"
     ]
    }
   ],
   "source": [
    "def divide_numbers(dividend, divisor):\n",
    "    try:\n",
    "        result = dividend / divisor\n",
    "    except ZeroDivisionError:\n",
    "        print(\"Error: Cannot divide by zero!\")\n",
    "    else:\n",
    "        print(f\"Result of division: {result}\")\n",
    "\n",
    "# Example usage:\n",
    "# Case 1: Valid division (no exception)\n",
    "divide_numbers(10, 2)\n",
    "\n",
    "# Case 2: Division by zero (will trigger the ZeroDivisionError)\n",
    "divide_numbers(5, 0)\n"
   ]
  },
  {
   "cell_type": "markdown",
   "id": "213e8438",
   "metadata": {},
   "source": [
    "Explain the role of the finally keyword in exception handling. Write a code snippet to demonstrate its use."
   ]
  },
  {
   "cell_type": "code",
   "execution_count": 3,
   "id": "4f6335f4",
   "metadata": {},
   "outputs": [
    {
     "name": "stdout",
     "output_type": "stream",
     "text": [
      "Result of division: 5.0\n",
      "This will be executed regardless of whether an exception occurred or not.\n",
      "Error: Cannot divide by zero!\n",
      "This will be executed regardless of whether an exception occurred or not.\n"
     ]
    }
   ],
   "source": [
    "def divide_numbers(dividend, divisor):\n",
    "    try:\n",
    "        result = dividend / divisor\n",
    "        print(f\"Result of division: {result}\")\n",
    "    except ZeroDivisionError:\n",
    "        print(\"Error: Cannot divide by zero!\")\n",
    "    finally:\n",
    "        print(\"This will be executed regardless of whether an exception occurred or not.\")\n",
    "\n",
    "# Example usage:\n",
    "# Case 1: Valid division (no exception)\n",
    "divide_numbers(10, 2)\n",
    "\n",
    "# Case 2: Division by zero (will trigger the ZeroDivisionError)\n",
    "divide_numbers(5, 0)\n"
   ]
  },
  {
   "cell_type": "markdown",
   "id": "28a825cd",
   "metadata": {},
   "source": [
    "Write a program that uses a try-except block to handle a FileNotFoundError."
   ]
  },
  {
   "cell_type": "code",
   "execution_count": 4,
   "id": "a40b08be",
   "metadata": {},
   "outputs": [
    {
     "name": "stdout",
     "output_type": "stream",
     "text": [
      "Error: The specified file was not found.\n"
     ]
    }
   ],
   "source": [
    "try:\n",
    "    # Attempt to open a file that does not exist\n",
    "    with open(\"nonexistent_file.txt\", \"r\") as file:\n",
    "        content = file.read()\n",
    "    print(\"File content:\", content)\n",
    "except FileNotFoundError:\n",
    "    print(\"Error: The specified file was not found.\")\n",
    "except Exception as e:\n",
    "    print(f\"An unexpected error occurred: {type(e).__name__}: {e}\")\n"
   ]
  },
  {
   "cell_type": "markdown",
   "id": "b518674e",
   "metadata": {},
   "source": [
    "Create a Python program that uses multiple except clauses to handle different types of exceptions."
   ]
  },
  {
   "cell_type": "code",
   "execution_count": 5,
   "id": "11a3e481",
   "metadata": {},
   "outputs": [
    {
     "name": "stdout",
     "output_type": "stream",
     "text": [
      "Result of division: 5.0\n",
      "Error: Index out of range!\n",
      "Error: Cannot divide by zero!\n",
      "Result of division: 3.5\n",
      "Error: Index out of range!\n",
      "An unexpected error occurred: TypeError: unsupported operand type(s) for /: 'int' and 'str'\n"
     ]
    }
   ],
   "source": [
    "def perform_operations(x, y):\n",
    "    try:\n",
    "        result = x / y\n",
    "        print(f\"Result of division: {result}\")\n",
    "\n",
    "        # Attempt to access an index that is out of range\n",
    "        my_list = [1, 2, 3]\n",
    "        print(\"Value at index 5:\", my_list[5])\n",
    "\n",
    "        # Attempt to convert a string to an integer\n",
    "        number_str = \"abc\"\n",
    "        number = int(number_str)\n",
    "        print(\"Converted number:\", number)\n",
    "\n",
    "    except ZeroDivisionError:\n",
    "        print(\"Error: Cannot divide by zero!\")\n",
    "    except IndexError:\n",
    "        print(\"Error: Index out of range!\")\n",
    "    except ValueError:\n",
    "        print(\"Error: Unable to convert the string to an integer!\")\n",
    "    except Exception as e:\n",
    "        print(f\"An unexpected error occurred: {type(e).__name__}: {e}\")\n",
    "\n",
    "# Example usage:\n",
    "perform_operations(10, 2)\n",
    "perform_operations(5, 0)\n",
    "perform_operations(7, 2)\n",
    "perform_operations(10, \"abc\")\n"
   ]
  },
  {
   "cell_type": "markdown",
   "id": "37c93388",
   "metadata": {},
   "source": [
    "Implement a function that raises a custom exception if a given number is negative."
   ]
  },
  {
   "cell_type": "code",
   "execution_count": 6,
   "id": "09a7a16a",
   "metadata": {},
   "outputs": [
    {
     "name": "stdout",
     "output_type": "stream",
     "text": [
      "The number is positive.\n",
      "Caught a custom exception: Error: The number cannot be negative.\n"
     ]
    }
   ],
   "source": [
    "class NegativeNumberError(Exception):\n",
    "    \"\"\"Custom exception for negative numbers.\"\"\"\n",
    "\n",
    "def check_positive_number(number):\n",
    "    \"\"\"Function to check if a number is positive, raising a custom exception if negative.\"\"\"\n",
    "    if number < 0:\n",
    "        raise NegativeNumberError(\"Error: The number cannot be negative.\")\n",
    "    else:\n",
    "        print(\"The number is positive.\")\n",
    "\n",
    "# Example usage:\n",
    "try:\n",
    "    check_positive_number(5)\n",
    "    check_positive_number(-3)  # This will raise the custom exception\n",
    "except NegativeNumberError as e:\n",
    "    print(f\"Caught a custom exception: {e}\")\n",
    "except Exception as e:\n",
    "    print(f\"An unexpected error occurred: {type(e).__name__}: {e}\")\n"
   ]
  },
  {
   "cell_type": "markdown",
   "id": "28762688",
   "metadata": {},
   "source": [
    "Write a function that uses the assert keyword to check if a given list is not empty."
   ]
  },
  {
   "cell_type": "code",
   "execution_count": 7,
   "id": "348bbe48",
   "metadata": {},
   "outputs": [
    {
     "name": "stdout",
     "output_type": "stream",
     "text": [
      "The list is not empty.\n"
     ]
    },
    {
     "ename": "AssertionError",
     "evalue": "Error: The list is empty!",
     "output_type": "error",
     "traceback": [
      "\u001b[1;31m---------------------------------------------------------------------------\u001b[0m",
      "\u001b[1;31mAssertionError\u001b[0m                            Traceback (most recent call last)",
      "Cell \u001b[1;32mIn[7], line 14\u001b[0m\n\u001b[0;32m     11\u001b[0m check_non_empty_list(my_list1)\n\u001b[0;32m     13\u001b[0m \u001b[38;5;66;03m# Call the function with an empty list (will trigger the AssertionError)\u001b[39;00m\n\u001b[1;32m---> 14\u001b[0m check_non_empty_list(my_list2)\n",
      "Cell \u001b[1;32mIn[7], line 3\u001b[0m, in \u001b[0;36mcheck_non_empty_list\u001b[1;34m(my_list)\u001b[0m\n\u001b[0;32m      1\u001b[0m \u001b[38;5;28;01mdef\u001b[39;00m \u001b[38;5;21mcheck_non_empty_list\u001b[39m(my_list):\n\u001b[0;32m      2\u001b[0m \u001b[38;5;250m    \u001b[39m\u001b[38;5;124;03m\"\"\"Function to check if a given list is not empty using assert.\"\"\"\u001b[39;00m\n\u001b[1;32m----> 3\u001b[0m     \u001b[38;5;28;01massert\u001b[39;00m my_list, \u001b[38;5;124m\"\u001b[39m\u001b[38;5;124mError: The list is empty!\u001b[39m\u001b[38;5;124m\"\u001b[39m\n\u001b[0;32m      4\u001b[0m     \u001b[38;5;28mprint\u001b[39m(\u001b[38;5;124m\"\u001b[39m\u001b[38;5;124mThe list is not empty.\u001b[39m\u001b[38;5;124m\"\u001b[39m)\n",
      "\u001b[1;31mAssertionError\u001b[0m: Error: The list is empty!"
     ]
    }
   ],
   "source": [
    "def check_non_empty_list(my_list):\n",
    "    \"\"\"Function to check if a given list is not empty using assert.\"\"\"\n",
    "    assert my_list, \"Error: The list is empty!\"\n",
    "    print(\"The list is not empty.\")\n",
    "\n",
    "# Example usage:\n",
    "my_list1 = [1, 2, 3]\n",
    "my_list2 = []\n",
    "\n",
    "# Call the function with a non-empty list\n",
    "check_non_empty_list(my_list1)\n",
    "\n",
    "# Call the function with an empty list (will trigger the AssertionError)\n",
    "check_non_empty_list(my_list2)\n"
   ]
  },
  {
   "cell_type": "markdown",
   "id": "f7861e8d",
   "metadata": {},
   "source": [
    "Develop a program that reads two numbers from the user and divides them. Handle different exceptions such as ZeroDivisionError and ValueError."
   ]
  },
  {
   "cell_type": "code",
   "execution_count": 8,
   "id": "ef8f7f27",
   "metadata": {},
   "outputs": [
    {
     "name": "stdout",
     "output_type": "stream",
     "text": [
      "Enter the dividend: 5\n",
      "Enter the divisor: 6\n",
      "Result of division: 0.8333333333333334\n"
     ]
    }
   ],
   "source": [
    "def divide_numbers():\n",
    "    try:\n",
    "        # Prompt the user for two numbers\n",
    "        dividend = float(input(\"Enter the dividend: \"))\n",
    "        divisor = float(input(\"Enter the divisor: \"))\n",
    "\n",
    "        # Perform the division\n",
    "        result = dividend / divisor\n",
    "        print(f\"Result of division: {result}\")\n",
    "\n",
    "    except ValueError:\n",
    "        print(\"Error: Please enter valid numerical values.\")\n",
    "    except ZeroDivisionError:\n",
    "        print(\"Error: Cannot divide by zero.\")\n",
    "    except Exception as e:\n",
    "        print(f\"An unexpected error occurred: {type(e).__name__}: {e}\")\n",
    "\n",
    "# Example usage:\n",
    "divide_numbers()\n"
   ]
  },
  {
   "cell_type": "markdown",
   "id": "4a043e90",
   "metadata": {},
   "source": [
    "Write a function that takes a string as input and converts it to an integer. Handle the ValueError exception."
   ]
  },
  {
   "cell_type": "code",
   "execution_count": 10,
   "id": "273b88df",
   "metadata": {},
   "outputs": [
    {
     "name": "stdout",
     "output_type": "stream",
     "text": [
      "Enter a string to convert to an integer: 1234\n",
      "Conversion successful. Integer value: 1234\n"
     ]
    }
   ],
   "source": [
    "def convert_to_integer(input_str):\n",
    "    try:\n",
    "        result = int(input_str)\n",
    "        print(f\"Conversion successful. Integer value: {result}\")\n",
    "    except ValueError:\n",
    "        print(\"Error: Unable to convert the string to an integer.\")\n",
    "\n",
    "# Example usage:\n",
    "user_input = input(\"Enter a string to convert to an integer: \")\n",
    "convert_to_integer(user_input)\n"
   ]
  },
  {
   "cell_type": "markdown",
   "id": "e09663a8",
   "metadata": {},
   "source": [
    "Create a program that uses the try, except, else, and finally blocks to open a file, read its contents, and print them."
   ]
  },
  {
   "cell_type": "code",
   "execution_count": 11,
   "id": "5f7daa25",
   "metadata": {},
   "outputs": [
    {
     "name": "stdout",
     "output_type": "stream",
     "text": [
      "Error: File 'example.txt' not found.\n",
      "File reading process completed.\n"
     ]
    }
   ],
   "source": [
    "def read_file_contents(file_path):\n",
    "    try:\n",
    "        # Try to open the file\n",
    "        with open(file_path, 'r') as file:\n",
    "            # Attempt to read the contents\n",
    "            contents = file.read()\n",
    "    except FileNotFoundError:\n",
    "        print(f\"Error: File '{file_path}' not found.\")\n",
    "    except Exception as e:\n",
    "        print(f\"An unexpected error occurred: {type(e).__name__}: {e}\")\n",
    "    else:\n",
    "        # If no exception occurred, print the contents\n",
    "        print(\"File contents:\")\n",
    "        print(contents)\n",
    "    finally:\n",
    "        # This block will be executed regardless of whether an exception occurred or not\n",
    "        print(\"File reading process completed.\")\n",
    "\n",
    "# Example usage:\n",
    "file_path = \"example.txt\"  # Replace with the actual path to an existing file\n",
    "\n",
    "read_file_contents(file_path)\n"
   ]
  },
  {
   "cell_type": "markdown",
   "id": "2f976b31",
   "metadata": {},
   "source": [
    "Define a custom exception class named CustomError. Write a program that raises this exception when a certain condition is met."
   ]
  },
  {
   "cell_type": "code",
   "execution_count": 12,
   "id": "58b2c87a",
   "metadata": {},
   "outputs": [
    {
     "name": "stdout",
     "output_type": "stream",
     "text": [
      "Enter a number: 9\n",
      "The condition is met.\n"
     ]
    }
   ],
   "source": [
    "class CustomError(Exception):\n",
    "    \"\"\"Custom exception class.\"\"\"\n",
    "    pass\n",
    "\n",
    "def check_condition(value):\n",
    "    \"\"\"Function to raise CustomError based on a condition.\"\"\"\n",
    "    if value < 0:\n",
    "        raise CustomError(\"Error: The condition is not met. Value should be non-negative.\")\n",
    "\n",
    "# Example usage:\n",
    "try:\n",
    "    user_input = int(input(\"Enter a number: \"))\n",
    "    check_condition(user_input)\n",
    "    print(\"The condition is met.\")\n",
    "except CustomError as ce:\n",
    "    print(f\"Caught a custom exception: {ce}\")\n",
    "except ValueError:\n",
    "    print(\"Error: Please enter a valid number.\")\n",
    "except Exception as e:\n",
    "    print(f\"An unexpected error occurred: {type(e).__name__}: {e}\")\n"
   ]
  },
  {
   "cell_type": "markdown",
   "id": "4718ee7b",
   "metadata": {},
   "source": [
    "Implement a function that reads a file and prints its content. If the file is not found, raise a FileNotFoundError with a custom error message."
   ]
  },
  {
   "cell_type": "code",
   "execution_count": 13,
   "id": "7d65d3f0",
   "metadata": {},
   "outputs": [
    {
     "name": "stdout",
     "output_type": "stream",
     "text": [
      "Error: File 'example.txt' not found.\n"
     ]
    }
   ],
   "source": [
    "def read_and_print_file(file_path):\n",
    "    try:\n",
    "        with open(file_path, 'r') as file:\n",
    "            content = file.read()\n",
    "            print(\"File contents:\")\n",
    "            print(content)\n",
    "    except FileNotFoundError:\n",
    "        raise FileNotFoundError(f\"Error: File '{file_path}' not found.\")\n",
    "    except Exception as e:\n",
    "        print(f\"An unexpected error occurred: {type(e).__name__}: {e}\")\n",
    "\n",
    "# Example usage:\n",
    "try:\n",
    "    file_path = \"example.txt\"  # Replace with the actual path to an existing file\n",
    "    read_and_print_file(file_path)\n",
    "except FileNotFoundError as fnfe:\n",
    "    print(fnfe)\n",
    "except Exception as e:\n",
    "    print(f\"An unexpected error occurred: {type(e).__name__}: {e}\")\n"
   ]
  },
  {
   "cell_type": "markdown",
   "id": "368cfff7",
   "metadata": {},
   "source": [
    "Develop a program that uses the assert keyword to check if a given number is positive. If not, raise an AssertionError with a custom message."
   ]
  },
  {
   "cell_type": "code",
   "execution_count": null,
   "id": "dffe1621",
   "metadata": {},
   "outputs": [],
   "source": [
    "def check_positive_number(number):\n",
    "    assert number > 0, f\"Error: The number must be positive. Received: {number}\"\n",
    "    print(f\"The number {number} is positive.\")\n",
    "\n",
    "# Example usage:\n",
    "try:\n",
    "    user_input = float(input(\"Enter a number: \"))\n",
    "    check_positive_number(user_input)\n",
    "except AssertionError as ae:\n",
    "    print(ae)\n",
    "except ValueError:\n",
    "    print(\"Error: Please enter a valid number.\")\n",
    "except Exception as e:\n",
    "    print(f\"An unexpected error occurred: {type(e).__name__}: {e}\")\n"
   ]
  },
  {
   "cell_type": "markdown",
   "id": "93fd3391",
   "metadata": {},
   "source": [
    "Create a function that calculates the square root of a positive number. Handle the ValueError exception if the user enters a negative number."
   ]
  },
  {
   "cell_type": "code",
   "execution_count": 14,
   "id": "33c71719",
   "metadata": {},
   "outputs": [
    {
     "name": "stdout",
     "output_type": "stream",
     "text": [
      "Enter a number to calculate its square root: 96\n",
      "The square root of 96.0 is: 9.797958971132712\n"
     ]
    }
   ],
   "source": [
    "import math\n",
    "\n",
    "def calculate_square_root(number):\n",
    "    try:\n",
    "        # Check if the number is positive\n",
    "        if number < 0:\n",
    "            raise ValueError(\"Error: Cannot calculate square root of a negative number.\")\n",
    "        \n",
    "        # Calculate and print the square root\n",
    "        result = math.sqrt(number)\n",
    "        print(f\"The square root of {number} is: {result}\")\n",
    "\n",
    "    except ValueError as ve:\n",
    "        print(ve)\n",
    "    except Exception as e:\n",
    "        print(f\"An unexpected error occurred: {type(e).__name__}: {e}\")\n",
    "\n",
    "# Example usage:\n",
    "try:\n",
    "    user_input = float(input(\"Enter a number to calculate its square root: \"))\n",
    "    calculate_square_root(user_input)\n",
    "except ValueError as ve:\n",
    "    print(ve)\n",
    "except Exception as e:\n",
    "    print(f\"An unexpected error occurred: {type(e).__name__}: {e}\")\n"
   ]
  },
  {
   "cell_type": "code",
   "execution_count": null,
   "id": "449f45e3",
   "metadata": {},
   "outputs": [],
   "source": []
  }
 ],
 "metadata": {
  "kernelspec": {
   "display_name": "Python 3 (ipykernel)",
   "language": "python",
   "name": "python3"
  },
  "language_info": {
   "codemirror_mode": {
    "name": "ipython",
    "version": 3
   },
   "file_extension": ".py",
   "mimetype": "text/x-python",
   "name": "python",
   "nbconvert_exporter": "python",
   "pygments_lexer": "ipython3",
   "version": "3.11.5"
  }
 },
 "nbformat": 4,
 "nbformat_minor": 5
}
