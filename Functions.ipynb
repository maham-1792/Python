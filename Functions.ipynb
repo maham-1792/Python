{
 "cells": [
  {
   "cell_type": "markdown",
   "id": "292d70c6",
   "metadata": {},
   "source": [
    "### Assignment-06 (Functions)\n",
    "- Change the notebook name with your name and Roll Number.\n",
    "- Try this as your own, no chatgpt (it's for your learning)\n",
    "- after completing the assignment, submit this book on google class room."
   ]
  },
  {
   "cell_type": "markdown",
   "id": "a78a8d1f",
   "metadata": {},
   "source": [
    "Write a function named add_numbers that takes two parameters and returns their sum."
   ]
  },
  {
   "cell_type": "code",
   "execution_count": 7,
   "id": "ecc43aae",
   "metadata": {},
   "outputs": [
    {
     "name": "stdout",
     "output_type": "stream",
     "text": [
      "14\n"
     ]
    }
   ],
   "source": [
    "def add(a,b):\n",
    "    sum=a+b\n",
    "    return sum\n",
    "\n",
    "num1=5\n",
    "num2=9\n",
    "result=add(num1,num2)\n",
    "print (result)\n"
   ]
  },
  {
   "cell_type": "markdown",
   "id": "b8557bc1",
   "metadata": {},
   "source": [
    "Define a function calculate_area to compute the area of a rectangle given its length and width."
   ]
  },
  {
   "cell_type": "code",
   "execution_count": 8,
   "id": "5da1bce6",
   "metadata": {},
   "outputs": [
    {
     "name": "stdout",
     "output_type": "stream",
     "text": [
      "50\n"
     ]
    }
   ],
   "source": [
    "def calculate_area(length, width):\n",
    "    area = length * width\n",
    "    return area\n",
    "rectangle_length = 10\n",
    "rectangle_width = 5\n",
    "area_result = calculate_area(rectangle_length, rectangle_width)\n",
    "print(area_result)\n"
   ]
  },
  {
   "cell_type": "markdown",
   "id": "ced07c44",
   "metadata": {},
   "source": [
    "Add a docstring to the calculate_area function explaining its purpose."
   ]
  },
  {
   "cell_type": "code",
   "execution_count": 9,
   "id": "a5a19740",
   "metadata": {},
   "outputs": [
    {
     "name": "stdout",
     "output_type": "stream",
     "text": [
      "50\n"
     ]
    }
   ],
   "source": [
    "def calculate_area(length, width):\n",
    "    area = length * width\n",
    "    return area\n",
    "\n",
    "rectangle_length = 10\n",
    "rectangle_width = 5\n",
    "area_result = calculate_area(rectangle_length, rectangle_width)\n",
    "print(area_result)\n"
   ]
  },
  {
   "cell_type": "markdown",
   "id": "eaa57b3d",
   "metadata": {},
   "source": [
    "Create a function print_greeting that takes a name as an argument and prints a personalized greeting.\n"
   ]
  },
  {
   "cell_type": "code",
   "execution_count": 10,
   "id": "134dff75",
   "metadata": {},
   "outputs": [
    {
     "name": "stdout",
     "output_type": "stream",
     "text": [
      "Hello, Alice! Welcome to the personalized greeting.\n"
     ]
    }
   ],
   "source": [
    "def print_greeting(name):\n",
    "    print(f\"Hello, {name}! Welcome to the personalized greeting.\")\n",
    "person_name = \"Alice\"\n",
    "print_greeting(person_name)\n"
   ]
  },
  {
   "cell_type": "markdown",
   "id": "a9226488",
   "metadata": {},
   "source": [
    "Write a function is_prime that checks if a given number is prime.\n"
   ]
  },
  {
   "cell_type": "code",
   "execution_count": 11,
   "id": "787f0b36",
   "metadata": {},
   "outputs": [
    {
     "name": "stdout",
     "output_type": "stream",
     "text": [
      "17 is a prime number.\n"
     ]
    }
   ],
   "source": [
    "def is_prime(number):\n",
    "    if number < 2:\n",
    "        return False\n",
    "    for i in range(2, int(number**0.5) + 1):\n",
    "        if number % i == 0:\n",
    "            return False\n",
    "    return True\n",
    "test_number = 17\n",
    "if is_prime(test_number):\n",
    "    print(f\"{test_number} is a prime number.\")\n",
    "else:\n",
    "    print(f\"{test_number} is not a prime number.\")\n"
   ]
  },
  {
   "cell_type": "markdown",
   "id": "9b526fa5",
   "metadata": {},
   "source": [
    "Implement a function factorial to calculate the factorial of a given number.\n"
   ]
  },
  {
   "cell_type": "code",
   "execution_count": 12,
   "id": "800a23c7",
   "metadata": {},
   "outputs": [
    {
     "name": "stdout",
     "output_type": "stream",
     "text": [
      "The factorial of 5 is: 120\n"
     ]
    }
   ],
   "source": [
    "def factorial(n):\n",
    "    if n < 0:\n",
    "        raise ValueError(\"Factorial is not defined for negative numbers.\")\n",
    "    if n == 0 or n == 1:\n",
    "        return 1\n",
    "    else:\n",
    "        return n * factorial(n - 1)\n",
    "\n",
    "input_number = 5\n",
    "result = factorial(input_number)\n",
    "print(f\"The factorial of {input_number} is: {result}\")\n"
   ]
  },
  {
   "cell_type": "markdown",
   "id": "96ca84b5",
   "metadata": {},
   "source": [
    "Create a function print_pattern to print a specific pattern of stars."
   ]
  },
  {
   "cell_type": "code",
   "execution_count": 13,
   "id": "3239542e",
   "metadata": {},
   "outputs": [
    {
     "name": "stdout",
     "output_type": "stream",
     "text": [
      "*\n",
      "**\n",
      "***\n",
      "****\n",
      "*****\n"
     ]
    }
   ],
   "source": [
    "def print_pattern(rows):\n",
    "    for i in range(1, rows + 1):\n",
    "        print(\"*\" * i)\n",
    "pattern_rows = 5\n",
    "print_pattern(pattern_rows)\n"
   ]
  },
  {
   "cell_type": "markdown",
   "id": "dd5ace57",
   "metadata": {},
   "source": [
    "Write a function multiply_numbers with default values for its parameters."
   ]
  },
  {
   "cell_type": "code",
   "execution_count": 14,
   "id": "9165cb2a",
   "metadata": {},
   "outputs": [
    {
     "name": "stdout",
     "output_type": "stream",
     "text": [
      "Result with default values: 1\n",
      "Result with custom values: 12\n"
     ]
    }
   ],
   "source": [
    "def multiply_numbers(a=1, b=1):\n",
    "    return a * b\n",
    "result_default = multiply_numbers()  # Uses default values (1 * 1)\n",
    "result_custom = multiply_numbers(3, 4)  # Multiplies 3 and 4\n",
    "\n",
    "print(f\"Result with default values: {result_default}\")\n",
    "print(f\"Result with custom values: {result_custom}\")\n"
   ]
  },
  {
   "cell_type": "markdown",
   "id": "7cd00e34",
   "metadata": {},
   "source": [
    "Define a function print_info that takes a variable number of arguments and prints them.\n"
   ]
  },
  {
   "cell_type": "code",
   "execution_count": 15,
   "id": "e8b03ed1",
   "metadata": {},
   "outputs": [
    {
     "name": "stdout",
     "output_type": "stream",
     "text": [
      "Information:\n",
      "Name: John\n",
      "Age: 25\n",
      "Occupation: Developer\n"
     ]
    }
   ],
   "source": [
    "def print_info(*args):\n",
    "    print(\"Information:\")\n",
    "    for arg in args:\n",
    "        print(arg)\n",
    "\n",
    "print_info(\"Name: John\", \"Age: 25\", \"Occupation: Developer\")\n"
   ]
  },
  {
   "cell_type": "markdown",
   "id": "21006c9c",
   "metadata": {},
   "source": [
    "Create a function power_of_two that accepts a number and returns its square.\n"
   ]
  },
  {
   "cell_type": "code",
   "execution_count": 16,
   "id": "ee003f0d",
   "metadata": {},
   "outputs": [
    {
     "name": "stdout",
     "output_type": "stream",
     "text": [
      "The square of 4 is: 16\n"
     ]
    }
   ],
   "source": [
    "def power_of_two(number):\n",
    "    return number ** 2\n",
    "\n",
    "input_number = 4\n",
    "result = power_of_two(input_number)\n",
    "print(f\"The square of {input_number} is: {result}\")\n"
   ]
  },
  {
   "cell_type": "markdown",
   "id": "8aca7c5d",
   "metadata": {},
   "source": [
    "Define a variable inside a function and try to access it outside the function."
   ]
  },
  {
   "cell_type": "code",
   "execution_count": 17,
   "id": "1eecf2cb",
   "metadata": {},
   "outputs": [
    {
     "name": "stdout",
     "output_type": "stream",
     "text": [
      "I am a local variable\n"
     ]
    }
   ],
   "source": [
    "def example_function():\n",
    "    # Define a variable inside the function\n",
    "    local_variable = \"I am a local variable\"\n",
    "    return local_variable  # Return the local variable\n",
    "\n",
    "# Call the function and store the result in a variable\n",
    "result = example_function()\n",
    "\n",
    "# Attempt to access the local variable outside the function\n",
    "print(result)\n"
   ]
  },
  {
   "cell_type": "markdown",
   "id": "27ef8bea",
   "metadata": {},
   "source": [
    "Write a function that uses a variable from the enclosing scope."
   ]
  },
  {
   "cell_type": "code",
   "execution_count": 18,
   "id": "cf7f3658",
   "metadata": {},
   "outputs": [
    {
     "name": "stdout",
     "output_type": "stream",
     "text": [
      "15\n"
     ]
    }
   ],
   "source": [
    "def outer_function(outer_variable):\n",
    "    # Define an inner function that uses the outer variable\n",
    "    def inner_function(inner_variable):\n",
    "        # Access the outer variable and combine it with the inner variable\n",
    "        result = outer_variable + inner_variable\n",
    "        return result\n",
    "    \n",
    "    return inner_function  # Return the inner function\n",
    "\n",
    "# Call the outer function and store the result in a variable\n",
    "closure = outer_function(10)\n",
    "\n",
    "# Call the inner function with another variable\n",
    "inner_result = closure(5)\n",
    "\n",
    "# Print the result\n",
    "print(inner_result)\n"
   ]
  },
  {
   "cell_type": "markdown",
   "id": "e4bc1865",
   "metadata": {},
   "source": [
    "Create a global variable and modify it inside a function."
   ]
  },
  {
   "cell_type": "code",
   "execution_count": 19,
   "id": "16466e1d",
   "metadata": {},
   "outputs": [
    {
     "name": "stdout",
     "output_type": "stream",
     "text": [
      "Before: 10\n",
      "After: 15\n"
     ]
    }
   ],
   "source": [
    "# Define a global variable\n",
    "global_variable = 10\n",
    "\n",
    "def modify_global_variable():\n",
    "    # Access the global variable inside the function\n",
    "    global global_variable\n",
    "    \n",
    "    # Modify the global variable\n",
    "    global_variable += 5\n",
    "\n",
    "# Print the global variable before calling the function\n",
    "print(\"Before:\", global_variable)\n",
    "\n",
    "# Call the function to modify the global variable\n",
    "modify_global_variable()\n",
    "\n",
    "# Print the global variable after calling the function\n",
    "print(\"After:\", global_variable)\n"
   ]
  },
  {
   "cell_type": "markdown",
   "id": "05e33835",
   "metadata": {},
   "source": [
    "Write a lambda function to calculate the cube of a number."
   ]
  },
  {
   "cell_type": "code",
   "execution_count": 20,
   "id": "a1066910",
   "metadata": {},
   "outputs": [
    {
     "name": "stdout",
     "output_type": "stream",
     "text": [
      "The cube of 2 is: 8\n"
     ]
    }
   ],
   "source": [
    "cube = lambda x: x**3\n",
    "\n",
    "# Example usage:\n",
    "number = 2\n",
    "result = cube(number)\n",
    "\n",
    "print(f\"The cube of {number} is: {result}\")\n"
   ]
  },
  {
   "cell_type": "markdown",
   "id": "835f805c",
   "metadata": {},
   "source": [
    "Use a lambda function as an argument with the map function."
   ]
  },
  {
   "cell_type": "code",
   "execution_count": 21,
   "id": "2c18968f",
   "metadata": {},
   "outputs": [
    {
     "name": "stdout",
     "output_type": "stream",
     "text": [
      "Original numbers: [1, 2, 3, 4, 5]\n",
      "Squares: [1, 4, 9, 16, 25]\n"
     ]
    }
   ],
   "source": [
    "# Define a list of numbers\n",
    "numbers = [1, 2, 3, 4, 5]\n",
    "\n",
    "# Use map with a lambda function to calculate the squares of each number\n",
    "squares = map(lambda x: x**2, numbers)\n",
    "\n",
    "# Convert the result to a list and print it\n",
    "squares_list = list(squares)\n",
    "print(\"Original numbers:\", numbers)\n",
    "print(\"Squares:\", squares_list)\n",
    "\n"
   ]
  },
  {
   "cell_type": "markdown",
   "id": "afd4b510",
   "metadata": {},
   "source": [
    "Use a lambda function with the filter function to filter even numbers from a list."
   ]
  },
  {
   "cell_type": "code",
   "execution_count": 22,
   "id": "8b02f236",
   "metadata": {},
   "outputs": [
    {
     "name": "stdout",
     "output_type": "stream",
     "text": [
      "Original numbers: [1, 2, 3, 4, 5, 6, 7, 8, 9, 10]\n",
      "Even numbers: [2, 4, 6, 8, 10]\n"
     ]
    }
   ],
   "source": [
    "# Define a list of numbers\n",
    "numbers = [1, 2, 3, 4, 5, 6, 7, 8, 9, 10]\n",
    "\n",
    "# Use filter with a lambda function to filter even numbers\n",
    "even_numbers = filter(lambda x: x % 2 == 0, numbers)\n",
    "\n",
    "# Convert the result to a list and print it\n",
    "even_numbers_list = list(even_numbers)\n",
    "print(\"Original numbers:\", numbers)\n",
    "print(\"Even numbers:\", even_numbers_list)\n"
   ]
  },
  {
   "cell_type": "markdown",
   "id": "3b36cb84",
   "metadata": {},
   "source": [
    "Apply a lambda function with the reduce function to find the product of a list."
   ]
  },
  {
   "cell_type": "code",
   "execution_count": 23,
   "id": "a5d035b3",
   "metadata": {},
   "outputs": [
    {
     "name": "stdout",
     "output_type": "stream",
     "text": [
      "Original numbers: [2, 3, 4, 5]\n",
      "Product: 120\n"
     ]
    }
   ],
   "source": [
    "from functools import reduce\n",
    "\n",
    "# Define a list of numbers\n",
    "numbers = [2, 3, 4, 5]\n",
    "\n",
    "# Use reduce with a lambda function to find the product of the list\n",
    "product = reduce(lambda x, y: x * y, numbers)\n",
    "\n",
    "# Print the result\n",
    "print(\"Original numbers:\", numbers)\n",
    "print(\"Product:\", product)\n"
   ]
  },
  {
   "cell_type": "markdown",
   "id": "1462df0e",
   "metadata": {},
   "source": [
    "Sort a list of tuples based on the second element using a lambda function."
   ]
  },
  {
   "cell_type": "code",
   "execution_count": 24,
   "id": "74e28382",
   "metadata": {},
   "outputs": [
    {
     "name": "stdout",
     "output_type": "stream",
     "text": [
      "Original list of tuples: [(1, 5), (3, 2), (2, 8), (4, 1)]\n",
      "Sorted list of tuples based on the second element: [(4, 1), (3, 2), (1, 5), (2, 8)]\n"
     ]
    }
   ],
   "source": [
    "# Define a list of tuples\n",
    "list_of_tuples = [(1, 5), (3, 2), (2, 8), (4, 1)]\n",
    "\n",
    "# Use sorted with a lambda function to sort based on the second element\n",
    "sorted_tuples = sorted(list_of_tuples, key=lambda x: x[1])\n",
    "\n",
    "# Print the sorted list of tuples\n",
    "print(\"Original list of tuples:\", list_of_tuples)\n",
    "print(\"Sorted list of tuples based on the second element:\", sorted_tuples)\n"
   ]
  },
  {
   "cell_type": "markdown",
   "id": "c0978a54",
   "metadata": {},
   "source": [
    "Demonstrate the use of the zip function with two lists."
   ]
  },
  {
   "cell_type": "code",
   "execution_count": 25,
   "id": "9d41c722",
   "metadata": {},
   "outputs": [
    {
     "name": "stdout",
     "output_type": "stream",
     "text": [
      "List 1: [1, 2, 3, 4]\n",
      "List 2: ['a', 'b', 'c', 'd']\n",
      "Combined list using zip: [(1, 'a'), (2, 'b'), (3, 'c'), (4, 'd')]\n"
     ]
    }
   ],
   "source": [
    "# Define two lists\n",
    "list1 = [1, 2, 3, 4]\n",
    "list2 = ['a', 'b', 'c', 'd']\n",
    "\n",
    "# Use zip to combine the lists element-wise\n",
    "combined_zip = zip(list1, list2)\n",
    "\n",
    "# Convert the result to a list and print it\n",
    "combined_list = list(combined_zip)\n",
    "\n",
    "# Print the original lists and the combined list\n",
    "print(\"List 1:\", list1)\n",
    "print(\"List 2:\", list2)\n",
    "print(\"Combined list using zip:\", combined_list)\n"
   ]
  },
  {
   "cell_type": "markdown",
   "id": "00d634fa",
   "metadata": {},
   "source": [
    "Implement a generator function that generates Fibonacci numbers."
   ]
  },
  {
   "cell_type": "code",
   "execution_count": 26,
   "id": "6cd6a877",
   "metadata": {},
   "outputs": [
    {
     "name": "stdout",
     "output_type": "stream",
     "text": [
      "0\n",
      "1\n",
      "1\n",
      "2\n",
      "3\n",
      "5\n",
      "8\n",
      "13\n",
      "21\n",
      "34\n"
     ]
    }
   ],
   "source": [
    "def fibonacci_generator():\n",
    "    a, b = 0, 1\n",
    "    while True:\n",
    "        yield a\n",
    "        a, b = b, a + b\n",
    "\n",
    "# Example usage:\n",
    "fibonacci_gen = fibonacci_generator()\n",
    "\n",
    "# Generate and print the first 10 Fibonacci numbers\n",
    "for _ in range(10):\n",
    "    print(next(fibonacci_gen))\n"
   ]
  },
  {
   "cell_type": "markdown",
   "id": "cfdbada2",
   "metadata": {},
   "source": [
    "Use a generator expression to create a sequence of squares."
   ]
  },
  {
   "cell_type": "code",
   "execution_count": 27,
   "id": "8261d6f6",
   "metadata": {},
   "outputs": [
    {
     "name": "stdout",
     "output_type": "stream",
     "text": [
      "Sequence of squares: [1, 4, 9, 16, 25]\n"
     ]
    }
   ],
   "source": [
    "# Create a generator expression for squares\n",
    "squares_gen = (x**2 for x in range(1, 6))  # Generates squares from 1 to 5\n",
    "\n",
    "# Convert the generator expression to a list and print it\n",
    "squares_list = list(squares_gen)\n",
    "print(\"Sequence of squares:\", squares_list)\n"
   ]
  },
  {
   "cell_type": "markdown",
   "id": "c1732ffe",
   "metadata": {},
   "source": [
    "Write a function that uses the yield statement to produce a generator."
   ]
  },
  {
   "cell_type": "code",
   "execution_count": 28,
   "id": "77d601a1",
   "metadata": {},
   "outputs": [
    {
     "name": "stdout",
     "output_type": "stream",
     "text": [
      "1\n",
      "4\n",
      "9\n",
      "16\n",
      "25\n"
     ]
    }
   ],
   "source": [
    "def generate_squares(limit):\n",
    "    for number in range(1, limit + 1):\n",
    "        yield number**2\n",
    "\n",
    "# Example usage:\n",
    "squares_generator = generate_squares(5)\n",
    "\n",
    "# Iterate through the generator and print the squares\n",
    "for square in squares_generator:\n",
    "    print(square)\n"
   ]
  },
  {
   "cell_type": "markdown",
   "id": "413bf1e2",
   "metadata": {},
   "source": [
    "Explain the difference between iterators and generators in Python."
   ]
  },
  {
   "cell_type": "code",
   "execution_count": 29,
   "id": "8b944f0e",
   "metadata": {},
   "outputs": [
    {
     "name": "stdout",
     "output_type": "stream",
     "text": [
      "1\n",
      "2\n",
      "3\n"
     ]
    }
   ],
   "source": [
    "class MyIterator:\n",
    "    def __init__(self, data):\n",
    "        self.data = data\n",
    "        self.index = 0\n",
    "\n",
    "    def __iter__(self):\n",
    "        return self\n",
    "\n",
    "    def __next__(self):\n",
    "        if self.index < len(self.data):\n",
    "            result = self.data[self.index]\n",
    "            self.index += 1\n",
    "            return result\n",
    "        else:\n",
    "            raise StopIteration\n",
    "\n",
    "# Usage:\n",
    "my_iter = MyIterator([1, 2, 3])\n",
    "for item in my_iter:\n",
    "    print(item)\n"
   ]
  },
  {
   "cell_type": "markdown",
   "id": "0d59b556",
   "metadata": {},
   "source": [
    "Write a Python program that includes a nested function. Inside the nested function, access a variable from the enclosing function's scope, and explain how the scope resolution works in this case."
   ]
  },
  {
   "cell_type": "code",
   "execution_count": 30,
   "id": "992f17dd",
   "metadata": {},
   "outputs": [
    {
     "name": "stdout",
     "output_type": "stream",
     "text": [
      "Nested function accessing outer_variable: I am from the outer function\n"
     ]
    }
   ],
   "source": [
    "def outer_function(outer_variable):\n",
    "    # This is the enclosing function\n",
    "    \n",
    "    def nested_function():\n",
    "        # Access the variable from the enclosing function's scope\n",
    "        print(\"Nested function accessing outer_variable:\", outer_variable)\n",
    "    \n",
    "    # Call the nested function\n",
    "    nested_function()\n",
    "\n",
    "# Example usage:\n",
    "outer_function_variable = \"I am from the outer function\"\n",
    "\n",
    "# Call the outer function with its variable\n",
    "outer_function(outer_function_variable)\n"
   ]
  },
  {
   "cell_type": "markdown",
   "id": "a945086c",
   "metadata": {},
   "source": [
    "Create a list of strings containing both uppercase and lowercase words. Use a lambda function with the sorted() function to sort the list in a case-insensitive manner."
   ]
  },
  {
   "cell_type": "code",
   "execution_count": 31,
   "id": "d6445a64",
   "metadata": {},
   "outputs": [
    {
     "name": "stdout",
     "output_type": "stream",
     "text": [
      "Original list: ['apple', 'Banana', 'orange', 'Grapes', 'kiwi', 'Cherry']\n",
      "Sorted list (case-insensitive): ['apple', 'Banana', 'Cherry', 'Grapes', 'kiwi', 'orange']\n"
     ]
    }
   ],
   "source": [
    "# Create a list of strings with both uppercase and lowercase words\n",
    "word_list = [\"apple\", \"Banana\", \"orange\", \"Grapes\", \"kiwi\", \"Cherry\"]\n",
    "\n",
    "# Use sorted with a lambda function to sort the list case-insensitively\n",
    "sorted_word_list = sorted(word_list, key=lambda x: x.lower())\n",
    "\n",
    "# Print the original and sorted lists\n",
    "print(\"Original list:\", word_list)\n",
    "print(\"Sorted list (case-insensitive):\", sorted_word_list)\n"
   ]
  },
  {
   "cell_type": "markdown",
   "id": "9b5aa572",
   "metadata": {},
   "source": [
    "Implement a generator function that yields prime numbers indefinitely. Use this generator to print the first 10 prime numbers."
   ]
  },
  {
   "cell_type": "code",
   "execution_count": 32,
   "id": "86f1ead1",
   "metadata": {},
   "outputs": [
    {
     "name": "stdout",
     "output_type": "stream",
     "text": [
      "2\n",
      "3\n",
      "5\n",
      "7\n",
      "11\n",
      "13\n",
      "17\n",
      "19\n",
      "23\n",
      "29\n"
     ]
    }
   ],
   "source": [
    "def is_prime(number):\n",
    "    \"\"\"Check if a number is prime.\"\"\"\n",
    "    if number < 2:\n",
    "        return False\n",
    "    for i in range(2, int(number**0.5) + 1):\n",
    "        if number % i == 0:\n",
    "            return False\n",
    "    return True\n",
    "\n",
    "def generate_primes():\n",
    "    \"\"\"Generate prime numbers indefinitely.\"\"\"\n",
    "    current_number = 2\n",
    "    while True:\n",
    "        if is_prime(current_number):\n",
    "            yield current_number\n",
    "        current_number += 1\n",
    "\n",
    "# Example usage:\n",
    "prime_generator = generate_primes()\n",
    "\n",
    "# Print the first 10 prime numbers\n",
    "for _ in range(10):\n",
    "    print(next(prime_generator))\n"
   ]
  },
  {
   "cell_type": "markdown",
   "id": "e3b956a8",
   "metadata": {},
   "source": [
    "Write a decorator function that measures the execution time of another function. Apply this decorator to a function of your choice and print the execution time."
   ]
  },
  {
   "cell_type": "code",
   "execution_count": 33,
   "id": "ebbab120",
   "metadata": {},
   "outputs": [
    {
     "name": "stdout",
     "output_type": "stream",
     "text": [
      "Execution time of sample_function: 2.000972 seconds\n"
     ]
    }
   ],
   "source": [
    "import time\n",
    "\n",
    "def measure_execution_time(func):\n",
    "    \"\"\"Decorator function to measure the execution time of another function.\"\"\"\n",
    "    def wrapper(*args, **kwargs):\n",
    "        start_time = time.time()\n",
    "        result = func(*args, **kwargs)\n",
    "        end_time = time.time()\n",
    "        execution_time = end_time - start_time\n",
    "        print(f\"Execution time of {func.__name__}: {execution_time:.6f} seconds\")\n",
    "        return result\n",
    "    return wrapper\n",
    "\n",
    "# Apply the decorator to a sample function\n",
    "@measure_execution_time\n",
    "def sample_function():\n",
    "    \"\"\"A sample function to demonstrate the decorator.\"\"\"\n",
    "    time.sleep(2)  # Simulate some time-consuming operation\n",
    "\n",
    "# Call the decorated function\n",
    "sample_function()\n"
   ]
  },
  {
   "cell_type": "markdown",
   "id": "e2bbd3e3",
   "metadata": {},
   "source": []
  }
 ],
 "metadata": {
  "kernelspec": {
   "display_name": "Python 3 (ipykernel)",
   "language": "python",
   "name": "python3"
  },
  "language_info": {
   "codemirror_mode": {
    "name": "ipython",
    "version": 3
   },
   "file_extension": ".py",
   "mimetype": "text/x-python",
   "name": "python",
   "nbconvert_exporter": "python",
   "pygments_lexer": "ipython3",
   "version": "3.11.5"
  }
 },
 "nbformat": 4,
 "nbformat_minor": 5
}
