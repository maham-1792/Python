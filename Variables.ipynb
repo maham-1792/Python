{
 "cells": [
  {
   "cell_type": "markdown",
   "id": "1776f63f",
   "metadata": {},
   "source": [
    "### Assignment-02\n",
    "- Change the notebook name with your name and Roll Number.\n",
    "- Try this as your own, no chatgpt (it's for your learning)\n",
    "- after completing the assignment, submit this book on google class room."
   ]
  },
  {
   "cell_type": "markdown",
   "id": "5bc28c35",
   "metadata": {},
   "source": [
    "Declare and print a variable with the name \"name\" containing your name.\n"
   ]
  },
  {
   "cell_type": "code",
   "execution_count": 1,
   "id": "4eb1e464",
   "metadata": {},
   "outputs": [
    {
     "name": "stdout",
     "output_type": "stream",
     "text": [
      "Maham\n"
     ]
    }
   ],
   "source": [
    "name=\"Maham\"\n",
    "print(name)"
   ]
  },
  {
   "cell_type": "markdown",
   "id": "b66e672b",
   "metadata": {},
   "source": [
    "Create two variables, x and y, and swap their values without using a third variable.\n"
   ]
  },
  {
   "cell_type": "code",
   "execution_count": 3,
   "id": "5734b25c",
   "metadata": {},
   "outputs": [
    {
     "name": "stdout",
     "output_type": "stream",
     "text": [
      "9 5\n"
     ]
    }
   ],
   "source": [
    "x=5\n",
    "y=9\n",
    "x,y=y,x\n",
    "print(x,y)"
   ]
  },
  {
   "cell_type": "markdown",
   "id": "68c5f126",
   "metadata": {},
   "source": [
    "Calculate the area of a rectangle with length and width stored in variables.\n"
   ]
  },
  {
   "cell_type": "code",
   "execution_count": 1,
   "id": "efead34a",
   "metadata": {},
   "outputs": [
    {
     "name": "stdout",
     "output_type": "stream",
     "text": [
      "18\n"
     ]
    }
   ],
   "source": [
    "l=9\n",
    "w=2\n",
    "area=l*w\n",
    "print(area)"
   ]
  },
  {
   "cell_type": "markdown",
   "id": "e452ae4d",
   "metadata": {},
   "source": [
    "Create a variable with a long string (multi-line) and print its length."
   ]
  },
  {
   "cell_type": "code",
   "execution_count": 3,
   "id": "0f7d6636",
   "metadata": {},
   "outputs": [
    {
     "name": "stdout",
     "output_type": "stream",
     "text": [
      "22\n"
     ]
    }
   ],
   "source": [
    "n='walk into the memories'\n",
    "print(len(n))"
   ]
  },
  {
   "cell_type": "markdown",
   "id": "708def01",
   "metadata": {},
   "source": [
    "Create a variable to store your favorite number and print it."
   ]
  },
  {
   "cell_type": "code",
   "execution_count": 4,
   "id": "d810e261",
   "metadata": {},
   "outputs": [
    {
     "name": "stdout",
     "output_type": "stream",
     "text": [
      "14\n"
     ]
    }
   ],
   "source": [
    "num=14\n",
    "print(num)"
   ]
  },
  {
   "cell_type": "markdown",
   "id": "9088a41e",
   "metadata": {},
   "source": [
    "Declare and assign values to multiple variables to represent the sides of a triangle. Calculate and print its perimeter.\n"
   ]
  },
  {
   "cell_type": "code",
   "execution_count": 5,
   "id": "13d9d2d2",
   "metadata": {},
   "outputs": [
    {
     "name": "stdout",
     "output_type": "stream",
     "text": [
      "89\n"
     ]
    }
   ],
   "source": [
    "side1=4\n",
    "side2=9\n",
    "side3=76\n",
    "perimeter=side1+side2+side3\n",
    "print(perimeter)"
   ]
  },
  {
   "cell_type": "markdown",
   "id": "a76f2d4f",
   "metadata": {},
   "source": [
    "Store the price of an item in one variable and the quantity in another. Calculate and print the total cost.\n"
   ]
  },
  {
   "cell_type": "code",
   "execution_count": 7,
   "id": "8cc9115b",
   "metadata": {},
   "outputs": [
    {
     "name": "stdout",
     "output_type": "stream",
     "text": [
      "115200\n"
     ]
    }
   ],
   "source": [
    "price=3200\n",
    "quantity=36\n",
    "cost=price*quantity\n",
    "print(cost)"
   ]
  },
  {
   "cell_type": "markdown",
   "id": "7d9d0793",
   "metadata": {},
   "source": [
    "Declare a constant variable for the value of pi (π) and use it to calculate the circumference of a circle with a given radius."
   ]
  },
  {
   "cell_type": "code",
   "execution_count": 9,
   "id": "254f3e92",
   "metadata": {},
   "outputs": [
    {
     "name": "stdout",
     "output_type": "stream",
     "text": [
      "31.400000000000002\n"
     ]
    }
   ],
   "source": [
    "r=5\n",
    "pi=3.14\n",
    "circum=pi*r*2\n",
    "print(circum)"
   ]
  },
  {
   "cell_type": "markdown",
   "id": "2415eca0",
   "metadata": {},
   "source": [
    "Calculate the sum of two numbers, a and b."
   ]
  },
  {
   "cell_type": "code",
   "execution_count": 10,
   "id": "8eeee19d",
   "metadata": {},
   "outputs": [
    {
     "name": "stdout",
     "output_type": "stream",
     "text": [
      "107\n"
     ]
    }
   ],
   "source": [
    "a=14\n",
    "b=93\n",
    "sum=a+b\n",
    "print(sum)"
   ]
  },
  {
   "cell_type": "markdown",
   "id": "2f3f9653",
   "metadata": {},
   "source": [
    "Calculate the product of two numbers, a and b.\n"
   ]
  },
  {
   "cell_type": "code",
   "execution_count": 11,
   "id": "baac0709",
   "metadata": {},
   "outputs": [
    {
     "name": "stdout",
     "output_type": "stream",
     "text": [
      "1302\n"
     ]
    }
   ],
   "source": [
    "a=14\n",
    "b=93\n",
    "p=a*b\n",
    "print(p)"
   ]
  },
  {
   "cell_type": "markdown",
   "id": "263bb83b",
   "metadata": {},
   "source": [
    "Calculate the result of dividing a by b (with proper error handling for division by zero).\n"
   ]
  },
  {
   "cell_type": "code",
   "execution_count": 12,
   "id": "783ef794",
   "metadata": {},
   "outputs": [
    {
     "name": "stdout",
     "output_type": "stream",
     "text": [
      "0.15053763440860216\n"
     ]
    }
   ],
   "source": [
    "a=14\n",
    "b=93\n",
    "div=a/b\n",
    "print(div)"
   ]
  },
  {
   "cell_type": "markdown",
   "id": "1160a016",
   "metadata": {},
   "source": [
    "Calculate the square of a number x."
   ]
  },
  {
   "cell_type": "code",
   "execution_count": 13,
   "id": "ba1443de",
   "metadata": {},
   "outputs": [
    {
     "name": "stdout",
     "output_type": "stream",
     "text": [
      "1936\n"
     ]
    }
   ],
   "source": [
    "x=44\n",
    "sqr=x*x\n",
    "print(sqr)"
   ]
  },
  {
   "cell_type": "markdown",
   "id": "927cffd3",
   "metadata": {},
   "source": [
    "Calculate the remainder when a is divided by b."
   ]
  },
  {
   "cell_type": "code",
   "execution_count": 14,
   "id": "d84eace1",
   "metadata": {},
   "outputs": [
    {
     "name": "stdout",
     "output_type": "stream",
     "text": [
      "1\n"
     ]
    }
   ],
   "source": [
    "a=9\n",
    "b=4\n",
    "rem=a%b\n",
    "print(rem)"
   ]
  },
  {
   "cell_type": "markdown",
   "id": "fad0381a",
   "metadata": {},
   "source": [
    " Calculate the result of dividing 17 by 3 and print the quotient and remainder."
   ]
  },
  {
   "cell_type": "code",
   "execution_count": 15,
   "id": "6bbe2ffb",
   "metadata": {},
   "outputs": [
    {
     "name": "stdout",
     "output_type": "stream",
     "text": [
      "Quotient is: 5\n",
      "Remainder is: 2\n"
     ]
    }
   ],
   "source": [
    "dividend = 17\n",
    "divisor = 3\n",
    "quotient = dividend // divisor\n",
    "remainder = dividend % divisor\n",
    "print(\"Quotient is:\", quotient)\n",
    "print(\"Remainder is:\", remainder)\n"
   ]
  },
  {
   "cell_type": "markdown",
   "id": "0abdb0ba",
   "metadata": {},
   "source": [
    "Calculate the area of a square with a given side length.\n"
   ]
  },
  {
   "cell_type": "code",
   "execution_count": 16,
   "id": "4a0edefb",
   "metadata": {},
   "outputs": [
    {
     "name": "stdout",
     "output_type": "stream",
     "text": [
      "81\n"
     ]
    }
   ],
   "source": [
    "side_length=9\n",
    "area=side_length**2\n",
    "print(area)"
   ]
  },
  {
   "cell_type": "markdown",
   "id": "0c15704a",
   "metadata": {},
   "source": [
    "Calculate the average of five numbers.\n"
   ]
  },
  {
   "cell_type": "code",
   "execution_count": 17,
   "id": "ae66922d",
   "metadata": {},
   "outputs": [
    {
     "name": "stdout",
     "output_type": "stream",
     "text": [
      "6.4\n"
     ]
    }
   ],
   "source": [
    "num1=6\n",
    "num2=4\n",
    "num3=9\n",
    "num4=5\n",
    "num5=8\n",
    "total=num1+num2+num3+num4+num5\n",
    "count=5\n",
    "avg=total/count\n",
    "print(avg)"
   ]
  },
  {
   "cell_type": "markdown",
   "id": "da3cde84",
   "metadata": {},
   "source": [
    "Create a variable with a boolean value and print its opposite value.\n"
   ]
  },
  {
   "cell_type": "code",
   "execution_count": 19,
   "id": "0bb430b5",
   "metadata": {},
   "outputs": [
    {
     "name": "stdout",
     "output_type": "stream",
     "text": [
      "False\n"
     ]
    }
   ],
   "source": [
    "bool=True\n",
    "no=not bool\n",
    "print(no)"
   ]
  },
  {
   "cell_type": "markdown",
   "id": "d800b510",
   "metadata": {},
   "source": [
    "Store your birth year in a variable and calculate your age."
   ]
  },
  {
   "cell_type": "code",
   "execution_count": 20,
   "id": "94ac0a22",
   "metadata": {},
   "outputs": [
    {
     "name": "stdout",
     "output_type": "stream",
     "text": [
      "21\n"
     ]
    }
   ],
   "source": [
    "birth_year=2002\n",
    "current_year=2023\n",
    "age=current_year-birth_year\n",
    "print(age)"
   ]
  },
  {
   "cell_type": "markdown",
   "id": "193bd0c7",
   "metadata": {},
   "source": [
    "Create a variable with an integer and convert it to a float."
   ]
  },
  {
   "cell_type": "code",
   "execution_count": 22,
   "id": "c862dfa4",
   "metadata": {},
   "outputs": [
    {
     "name": "stdout",
     "output_type": "stream",
     "text": [
      "5.0\n"
     ]
    }
   ],
   "source": [
    "var=5\n",
    "var1=float(var)\n",
    "print(var1)"
   ]
  },
  {
   "cell_type": "markdown",
   "id": "d6e985ae",
   "metadata": {},
   "source": [
    "Create a variable with a float and convert it to an integer."
   ]
  },
  {
   "cell_type": "code",
   "execution_count": 25,
   "id": "db782f94",
   "metadata": {},
   "outputs": [
    {
     "name": "stdout",
     "output_type": "stream",
     "text": [
      "3.14\n"
     ]
    }
   ],
   "source": [
    "var=3.14\n",
    "var1=int(var)\n",
    "print(var)"
   ]
  },
  {
   "cell_type": "markdown",
   "id": "03fbd24c",
   "metadata": {},
   "source": [
    "Create a variable with a string that represents an integer and convert it to an integer."
   ]
  },
  {
   "cell_type": "code",
   "execution_count": 28,
   "id": "15e98a9c",
   "metadata": {},
   "outputs": [
    {
     "name": "stdout",
     "output_type": "stream",
     "text": [
      "164\n"
     ]
    }
   ],
   "source": [
    "var=\"164\"\n",
    "var1=int(var)\n",
    "print(var1)"
   ]
  },
  {
   "cell_type": "markdown",
   "id": "7b82ee26",
   "metadata": {},
   "source": [
    "Create a variable with a string that represents a float and convert it to a float.\n"
   ]
  },
  {
   "cell_type": "code",
   "execution_count": 29,
   "id": "31b96ee5",
   "metadata": {},
   "outputs": [
    {
     "name": "stdout",
     "output_type": "stream",
     "text": [
      "164.0\n"
     ]
    }
   ],
   "source": [
    "var=\"164\"\n",
    "var1=float(var)\n",
    "print(var1)"
   ]
  },
  {
   "cell_type": "markdown",
   "id": "55b70302",
   "metadata": {},
   "source": [
    "Create a variable with a number and convert it to a string."
   ]
  },
  {
   "cell_type": "code",
   "execution_count": 30,
   "id": "191ca6c0",
   "metadata": {},
   "outputs": [
    {
     "name": "stdout",
     "output_type": "stream",
     "text": [
      "43\n"
     ]
    }
   ],
   "source": [
    "var=43\n",
    "var1=str(var)\n",
    "print(var1)"
   ]
  },
  {
   "cell_type": "markdown",
   "id": "12030234",
   "metadata": {},
   "source": [
    "Calculate the absolute value of a number.\n",
    "\n"
   ]
  },
  {
   "cell_type": "code",
   "execution_count": 31,
   "id": "e6e2dbb2",
   "metadata": {},
   "outputs": [
    {
     "name": "stdout",
     "output_type": "stream",
     "text": [
      "The absolute value of is: 5\n"
     ]
    }
   ],
   "source": [
    "number = -5\n",
    "absolute_value = abs(number)\n",
    "print(\"The absolute value of is:\", absolute_value)\n"
   ]
  },
  {
   "cell_type": "markdown",
   "id": "0bcb4315",
   "metadata": {},
   "source": [
    "Calculate the square root of a number.\n"
   ]
  },
  {
   "cell_type": "code",
   "execution_count": 32,
   "id": "1ffc86be",
   "metadata": {},
   "outputs": [
    {
     "name": "stdout",
     "output_type": "stream",
     "text": [
      "196\n"
     ]
    }
   ],
   "source": [
    "num=14\n",
    "sqr=num*num\n",
    "print(sqr)"
   ]
  },
  {
   "cell_type": "markdown",
   "id": "3b8743eb",
   "metadata": {},
   "source": [
    "Calculate the value of a raised to the power of b.\n"
   ]
  },
  {
   "cell_type": "code",
   "execution_count": 34,
   "id": "d278563f",
   "metadata": {},
   "outputs": [
    {
     "name": "stdout",
     "output_type": "stream",
     "text": [
      "2 raised to the power of 3 is: 8\n"
     ]
    }
   ],
   "source": [
    "a = 2 \n",
    "b = 3  \n",
    "result = a ** b\n",
    "print(a, \"raised to the power of\", b, \"is:\", result)\n"
   ]
  },
  {
   "cell_type": "markdown",
   "id": "d06e7a77",
   "metadata": {},
   "source": [
    "Round a float to the nearest integer."
   ]
  },
  {
   "cell_type": "code",
   "execution_count": 33,
   "id": "2f5873c3",
   "metadata": {},
   "outputs": [
    {
     "name": "stdout",
     "output_type": "stream",
     "text": [
      "Rounded integer: 4\n"
     ]
    }
   ],
   "source": [
    "my_float = 3.7\n",
    "rounded_integer = round(my_float)\n",
    "print(\"Rounded integer:\", rounded_integer)\n"
   ]
  },
  {
   "cell_type": "markdown",
   "id": "34f33237",
   "metadata": {},
   "source": [
    "Combine multiple conditions using logical operators and print the result."
   ]
  },
  {
   "cell_type": "code",
   "execution_count": 35,
   "id": "687d14b0",
   "metadata": {},
   "outputs": [
    {
     "name": "stdout",
     "output_type": "stream",
     "text": [
      "Condition 1 : True\n",
      "Condition 2 : False\n"
     ]
    }
   ],
   "source": [
    "x = 5\n",
    "y = 10\n",
    "condition1 = (x > 3) and (y < 15)  \n",
    "condition2 = (x < 3) or (y > 15)   \n",
    "print(\"Condition 1 :\", condition1)\n",
    "print(\"Condition 2 :\", condition2)\n"
   ]
  },
  {
   "cell_type": "markdown",
   "id": "ab20128b",
   "metadata": {},
   "source": [
    "Generate a random number between 1 and 100.**(challenging)**\n"
   ]
  },
  {
   "cell_type": "code",
   "execution_count": 36,
   "id": "43ac553b",
   "metadata": {},
   "outputs": [
    {
     "name": "stdout",
     "output_type": "stream",
     "text": [
      "16\n"
     ]
    }
   ],
   "source": [
    "import random\n",
    "random=random.randint(1,100)\n",
    "print(random)"
   ]
  }
 ],
 "metadata": {
  "kernelspec": {
   "display_name": "Python 3 (ipykernel)",
   "language": "python",
   "name": "python3"
  },
  "language_info": {
   "codemirror_mode": {
    "name": "ipython",
    "version": 3
   },
   "file_extension": ".py",
   "mimetype": "text/x-python",
   "name": "python",
   "nbconvert_exporter": "python",
   "pygments_lexer": "ipython3",
   "version": "3.11.5"
  }
 },
 "nbformat": 4,
 "nbformat_minor": 5
}
