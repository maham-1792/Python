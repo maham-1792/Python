{
 "cells": [
  {
   "cell_type": "markdown",
   "id": "1488806a",
   "metadata": {},
   "source": [
    "### Assignment-05 (Tuple)\n",
    "- Change the notebook name with your name and Roll Number.\n",
    "- Try this as your own, no chatgpt (it's for your learning)\n",
    "- after completing the assignment, submit this book on google class room."
   ]
  },
  {
   "cell_type": "markdown",
   "id": "0f49daa5",
   "metadata": {},
   "source": [
    "    Create an empty tuple and print it.\n",
    "        "
   ]
  },
  {
   "cell_type": "code",
   "execution_count": 1,
   "id": "9f34fb22",
   "metadata": {},
   "outputs": [
    {
     "name": "stdout",
     "output_type": "stream",
     "text": [
      "()\n"
     ]
    }
   ],
   "source": [
    "tup=()\n",
    "print(tup)"
   ]
  },
  {
   "cell_type": "markdown",
   "id": "e043fa87",
   "metadata": {},
   "source": [
    "    Create a tuple of your favorite fruits and print it.\n"
   ]
  },
  {
   "cell_type": "code",
   "execution_count": 2,
   "id": "a8075e3e",
   "metadata": {},
   "outputs": [
    {
     "name": "stdout",
     "output_type": "stream",
     "text": [
      "('orange', 'mango', 'kivi')\n"
     ]
    }
   ],
   "source": [
    "tup=('orange', 'mango','kivi')\n",
    "print(tup)"
   ]
  },
  {
   "cell_type": "markdown",
   "id": "63103aae",
   "metadata": {},
   "source": [
    "    Create a tuple that includes a mix of data types (integers, strings, floats).\n",
    "  "
   ]
  },
  {
   "cell_type": "code",
   "execution_count": 3,
   "id": "02d21498",
   "metadata": {},
   "outputs": [
    {
     "name": "stdout",
     "output_type": "stream",
     "text": [
      "('Maham', 21, '6.0')\n"
     ]
    }
   ],
   "source": [
    "tup=('Maham',21,'6.0')\n",
    "print(tup)"
   ]
  },
  {
   "cell_type": "markdown",
   "id": "704e22bb",
   "metadata": {},
   "source": [
    "  Access the first element of a tuple.\n"
   ]
  },
  {
   "cell_type": "code",
   "execution_count": 4,
   "id": "bf90e463",
   "metadata": {},
   "outputs": [
    {
     "name": "stdout",
     "output_type": "stream",
     "text": [
      "Maham\n"
     ]
    }
   ],
   "source": [
    "tup=('Maham',21,'6.0')\n",
    "firs=tup[0]\n",
    "print(firs)"
   ]
  },
  {
   "cell_type": "markdown",
   "id": "26563419",
   "metadata": {},
   "source": [
    "    Access the last element of a tuple."
   ]
  },
  {
   "cell_type": "code",
   "execution_count": 5,
   "id": "54b98b3a",
   "metadata": {},
   "outputs": [
    {
     "name": "stdout",
     "output_type": "stream",
     "text": [
      "6.0\n"
     ]
    }
   ],
   "source": [
    "tup=('Maham',21,'6.0')\n",
    "firs=tup[-1]\n",
    "print(firs)"
   ]
  },
  {
   "cell_type": "markdown",
   "id": "15d49e96",
   "metadata": {},
   "source": [
    "Access the second and third elements of a tuple.\n"
   ]
  },
  {
   "cell_type": "code",
   "execution_count": 9,
   "id": "1b8f2886",
   "metadata": {},
   "outputs": [
    {
     "name": "stdout",
     "output_type": "stream",
     "text": [
      "21 6.0\n"
     ]
    }
   ],
   "source": [
    "tup=('Maham',21,'6.0')\n",
    "firs=tup[1]\n",
    "sec=tup[2]\n",
    "print(firs,sec)"
   ]
  },
  {
   "cell_type": "markdown",
   "id": "069741b2",
   "metadata": {},
   "source": [
    "\n",
    "    Slice a tuple to extract the first three elements.\n",
    "    "
   ]
  },
  {
   "cell_type": "code",
   "execution_count": 11,
   "id": "ba3f17f2",
   "metadata": {},
   "outputs": [
    {
     "name": "stdout",
     "output_type": "stream",
     "text": [
      "('Maham', 21, '6.0')\n"
     ]
    }
   ],
   "source": [
    "tup=('Maham',21,'6.0','Zain')\n",
    "firs=tup[:3]\n",
    "print(firs)"
   ]
  },
  {
   "cell_type": "markdown",
   "id": "f5f8af36",
   "metadata": {},
   "source": [
    "Slice a tuple to extract the last three elements.\n",
    " "
   ]
  },
  {
   "cell_type": "code",
   "execution_count": 16,
   "id": "72b61419",
   "metadata": {},
   "outputs": [
    {
     "name": "stdout",
     "output_type": "stream",
     "text": [
      "(21, '6.0', 'Zain')\n"
     ]
    }
   ],
   "source": [
    "tup=('Maham',21,'6.0','Zain')\n",
    "firs=tup[-3:]\n",
    "print(firs)"
   ]
  },
  {
   "cell_type": "markdown",
   "id": "fbf3a8e6",
   "metadata": {},
   "source": [
    "   Slice a tuple to get every second element.\n"
   ]
  },
  {
   "cell_type": "code",
   "execution_count": 17,
   "id": "2f28222b",
   "metadata": {},
   "outputs": [
    {
     "name": "stdout",
     "output_type": "stream",
     "text": [
      "(21,)\n"
     ]
    }
   ],
   "source": [
    "tup=('Maham',21,'6.0','Zain')\n",
    "firs=tup[1:2]\n",
    "print(firs)"
   ]
  },
  {
   "cell_type": "markdown",
   "id": "972a3d7e",
   "metadata": {},
   "source": [
    "    Reverse a tuple using slicing."
   ]
  },
  {
   "cell_type": "code",
   "execution_count": 22,
   "id": "a0c026b2",
   "metadata": {},
   "outputs": [
    {
     "name": "stdout",
     "output_type": "stream",
     "text": [
      "('Zain', '6.0', 21, 'Maham')\n"
     ]
    }
   ],
   "source": [
    "tup=('Maham',21,'6.0','Zain')\n",
    "firs=tup[::-1]\n",
    "print(firs)"
   ]
  },
  {
   "cell_type": "markdown",
   "id": "ff819f8c",
   "metadata": {},
   "source": [
    "Create two tuples and concatenate them.\n",
    "\n"
   ]
  },
  {
   "cell_type": "code",
   "execution_count": 23,
   "id": "34bb1253",
   "metadata": {},
   "outputs": [
    {
     "name": "stdout",
     "output_type": "stream",
     "text": [
      "(2, 4, 6, 1, 3, 5)\n"
     ]
    }
   ],
   "source": [
    "tup1=(2,4,6)\n",
    "tup2=(1,3,5)\n",
    "tup=tup1+tup2\n",
    "print(tup)"
   ]
  },
  {
   "cell_type": "markdown",
   "id": "6f81c447",
   "metadata": {},
   "source": [
    "    Repeat a tuple multiple times using the repetition operator."
   ]
  },
  {
   "cell_type": "code",
   "execution_count": 24,
   "id": "a7993e54",
   "metadata": {},
   "outputs": [
    {
     "name": "stdout",
     "output_type": "stream",
     "text": [
      "(2, 4, 6, 2, 4, 6, 2, 4, 6)\n"
     ]
    }
   ],
   "source": [
    "tup1=(2,4,6)\n",
    "tup=tup1*3\n",
    "print(tup)"
   ]
  },
  {
   "cell_type": "markdown",
   "id": "e39bdb1d",
   "metadata": {},
   "source": [
    "Find the index of a specific element in a tuple using the index() method."
   ]
  },
  {
   "cell_type": "code",
   "execution_count": 25,
   "id": "d0887521",
   "metadata": {},
   "outputs": [
    {
     "name": "stdout",
     "output_type": "stream",
     "text": [
      "Tuple: (10, 20, 30, 40, 50)\n",
      "Index of 30 : 2\n"
     ]
    }
   ],
   "source": [
    "my_tuple = (10, 20, 30, 40, 50)\n",
    "element_to_find = 30\n",
    "index_of_element = my_tuple.index(element_to_find)\n",
    "\n",
    "print(\"Tuple:\", my_tuple)\n",
    "print(\"Index of\", element_to_find, \":\", index_of_element)\n"
   ]
  },
  {
   "cell_type": "markdown",
   "id": "fc66ca7e",
   "metadata": {},
   "source": [
    "    Count the number of occurrences of a specific element in a tuple using the count() method."
   ]
  },
  {
   "cell_type": "code",
   "execution_count": 26,
   "id": "d9bf2831",
   "metadata": {},
   "outputs": [
    {
     "name": "stdout",
     "output_type": "stream",
     "text": [
      "Tuple: (10, 20, 30, 40, 30, 50, 30)\n",
      "Count of 30 : 3\n"
     ]
    }
   ],
   "source": [
    "my_tuple = (10, 20, 30, 40, 30, 50, 30)\n",
    "element_to_count = 30\n",
    "count_of_element = my_tuple.count(element_to_count)\n",
    "\n",
    "print(\"Tuple:\", my_tuple)\n",
    "print(\"Count of\", element_to_count, \":\", count_of_element)\n"
   ]
  },
  {
   "cell_type": "markdown",
   "id": "9bdef970",
   "metadata": {},
   "source": [
    "Sort a tuple of numbers in ascending order.\n",
    "\n"
   ]
  },
  {
   "cell_type": "code",
   "execution_count": 27,
   "id": "326fca51",
   "metadata": {},
   "outputs": [
    {
     "name": "stdout",
     "output_type": "stream",
     "text": [
      "Original tuple: (45, 12, 67, 23, 89, 34)\n",
      "Sorted tuple: (12, 23, 34, 45, 67, 89)\n"
     ]
    }
   ],
   "source": [
    "my_tuple = (45, 12, 67, 23, 89, 34)\n",
    "\n",
    "# Create a new tuple with elements sorted in ascending order\n",
    "sorted_tuple = tuple(sorted(my_tuple))\n",
    "\n",
    "print(\"Original tuple:\", my_tuple)\n",
    "print(\"Sorted tuple:\", sorted_tuple)\n"
   ]
  },
  {
   "cell_type": "markdown",
   "id": "2b1d9be5",
   "metadata": {},
   "source": [
    "    Sort a tuple of strings in alphabetical order."
   ]
  },
  {
   "cell_type": "code",
   "execution_count": 28,
   "id": "5b0a511f",
   "metadata": {},
   "outputs": [
    {
     "name": "stdout",
     "output_type": "stream",
     "text": [
      "Original tuple: ('apple', 'orange', 'banana', 'grape', 'kiwi')\n",
      "Sorted tuple: ('apple', 'banana', 'grape', 'kiwi', 'orange')\n"
     ]
    }
   ],
   "source": [
    "my_tuple = (\"apple\", \"orange\", \"banana\", \"grape\", \"kiwi\")\n",
    "\n",
    "# Create a new tuple with elements sorted in alphabetical order\n",
    "sorted_tuple = tuple(sorted(my_tuple))\n",
    "\n",
    "print(\"Original tuple:\", my_tuple)\n",
    "print(\"Sorted tuple:\", sorted_tuple)\n"
   ]
  },
  {
   "cell_type": "markdown",
   "id": "0393ae63",
   "metadata": {},
   "source": [
    "Sort a tuple of tuples based on the second element of each inner tuple."
   ]
  },
  {
   "cell_type": "code",
   "execution_count": 29,
   "id": "5b0d33fd",
   "metadata": {},
   "outputs": [
    {
     "name": "stdout",
     "output_type": "stream",
     "text": [
      "Original tuple: ((1, 30), (3, 20), (2, 50), (4, 10))\n",
      "Sorted tuple: ((4, 10), (3, 20), (1, 30), (2, 50))\n"
     ]
    }
   ],
   "source": [
    "my_tuple = ((1, 30), (3, 20), (2, 50), (4, 10))\n",
    "\n",
    "# Create a new tuple with elements sorted based on the second element of each inner tuple\n",
    "sorted_tuple = tuple(sorted(my_tuple, key=lambda x: x[1]))\n",
    "\n",
    "print(\"Original tuple:\", my_tuple)\n",
    "print(\"Sorted tuple:\", sorted_tuple)\n"
   ]
  },
  {
   "cell_type": "markdown",
   "id": "65b8f449",
   "metadata": {},
   "source": [
    "Compare two tuples to see if they are equal in both value and identity."
   ]
  },
  {
   "cell_type": "code",
   "execution_count": 31,
   "id": "e09a6135",
   "metadata": {},
   "outputs": [
    {
     "name": "stdout",
     "output_type": "stream",
     "text": [
      "Tuple 1: (1, 2, 3)\n",
      "Tuple 2: (1, 2, 3)\n",
      "Tuple 3: (1, 2, 3)\n",
      "Are equal in values: True\n",
      "Are identical: False\n",
      "Are identical with alias: True\n"
     ]
    }
   ],
   "source": [
    "tuple1 = (1, 2, 3)\n",
    "tuple2 = (1, 2, 3)\n",
    "tuple3 = tuple1  # tuple3 refers to the same object as tuple1\n",
    "are_equal_values = tuple1 == tuple2\n",
    "\n",
    "# Check for identity\n",
    "are_identical = tuple1 is tuple2\n",
    "are_identical_with_alias = tuple1 is tuple3\n",
    "\n",
    "print(\"Tuple 1:\", tuple1)\n",
    "print(\"Tuple 2:\", tuple2)\n",
    "print(\"Tuple 3:\", tuple3)\n",
    "print(\"Are equal in values:\", are_equal_values)\n",
    "print(\"Are identical:\", are_identical)\n",
    "print(\"Are identical with alias:\", are_identical_with_alias)\n"
   ]
  },
  {
   "cell_type": "markdown",
   "id": "0810cc18",
   "metadata": {},
   "source": [
    "Create a shallow copy of a tuple and observe the effects of modifying one of the tuples.\n",
    "\n"
   ]
  },
  {
   "cell_type": "code",
   "execution_count": null,
   "id": "426bacd6",
   "metadata": {},
   "outputs": [],
   "source": [
    "# Original tuple with a list as an element\n",
    "original_tuple = ([1, 2], 3, 4)\n",
    "\n",
    "# Create a shallow copy of the tuple\n",
    "shallow_copy_tuple = tuple(original_tuple)\n",
    "\n",
    "print(\"Original tuple:\", original_tuple)\n",
    "print(\"Shallow copy tuple:\", shallow_copy_tuple)\n",
    "\n",
    "# Modify the list inside the original tuple\n",
    "original_tuple[0][0] = 100\n",
    "\n",
    "print(\"After modifying original tuple:\")\n",
    "print(\"Original tuple:\", original_tuple)\n",
    "print(\"Shallow copy tuple:\", shallow_copy_tuple)\n"
   ]
  },
  {
   "cell_type": "markdown",
   "id": "f14455c5",
   "metadata": {},
   "source": [
    "    Create a deep copy of a nested tuple and observe the effects of modifying one of the tuples.\n"
   ]
  },
  {
   "cell_type": "code",
   "execution_count": 32,
   "id": "4564c764",
   "metadata": {},
   "outputs": [
    {
     "name": "stdout",
     "output_type": "stream",
     "text": [
      "Original nested tuple: ([1, 2], 3, 4)\n",
      "Deep copy nested tuple: ([1, 2], 3, 4)\n",
      "After modifying original nested tuple:\n",
      "Original nested tuple: ([100, 2], 3, 4)\n",
      "Deep copy nested tuple: ([1, 2], 3, 4)\n"
     ]
    }
   ],
   "source": [
    "import copy\n",
    "\n",
    "# Original nested tuple with a list as an element\n",
    "original_nested_tuple = ([1, 2], 3, 4)\n",
    "\n",
    "# Create a deep copy of the nested tuple\n",
    "deep_copy_nested_tuple = copy.deepcopy(original_nested_tuple)\n",
    "\n",
    "print(\"Original nested tuple:\", original_nested_tuple)\n",
    "print(\"Deep copy nested tuple:\", deep_copy_nested_tuple)\n",
    "\n",
    "# Modify the list inside the original nested tuple\n",
    "original_nested_tuple[0][0] = 100\n",
    "\n",
    "print(\"After modifying original nested tuple:\")\n",
    "print(\"Original nested tuple:\", original_nested_tuple)\n",
    "print(\"Deep copy nested tuple:\", deep_copy_nested_tuple)\n"
   ]
  },
  {
   "cell_type": "markdown",
   "id": "b01879a0",
   "metadata": {},
   "source": [
    "    Pickle a tuple and save it to a file.\n"
   ]
  },
  {
   "cell_type": "code",
   "execution_count": 33,
   "id": "55ddfbd4",
   "metadata": {},
   "outputs": [
    {
     "name": "stdout",
     "output_type": "stream",
     "text": [
      "Tuple pickled and saved to pickled_tuple.pkl\n"
     ]
    }
   ],
   "source": [
    "import pickle\n",
    "\n",
    "# Create a tuple to pickle\n",
    "my_tuple = (1, 2, 3, 'hello', [4, 5, 6])\n",
    "\n",
    "# Specify the file path\n",
    "file_path = 'pickled_tuple.pkl'\n",
    "\n",
    "# Pickle the tuple and save it to a file\n",
    "with open(file_path, 'wb') as file:\n",
    "    pickle.dump(my_tuple, file)\n",
    "\n",
    "print(\"Tuple pickled and saved to\", file_path)\n"
   ]
  },
  {
   "cell_type": "markdown",
   "id": "6874f46a",
   "metadata": {},
   "source": [
    "    Unpickle a tuple from a file and display its content."
   ]
  },
  {
   "cell_type": "code",
   "execution_count": 34,
   "id": "02f8549f",
   "metadata": {},
   "outputs": [
    {
     "name": "stdout",
     "output_type": "stream",
     "text": [
      "Tuple loaded from pickled_tuple.pkl\n",
      "Loaded tuple: (1, 2, 3, 'hello', [4, 5, 6])\n"
     ]
    }
   ],
   "source": [
    "file_path = 'pickled_tuple.pkl'\n",
    "\n",
    "# Load the pickled tuple from the file\n",
    "with open(file_path, 'rb') as file:\n",
    "    loaded_tuple = pickle.load(file)\n",
    "\n",
    "print(\"Tuple loaded from\", file_path)\n",
    "print(\"Loaded tuple:\", loaded_tuple)\n"
   ]
  },
  {
   "cell_type": "code",
   "execution_count": null,
   "id": "20ef24e3",
   "metadata": {},
   "outputs": [],
   "source": []
  }
 ],
 "metadata": {
  "kernelspec": {
   "display_name": "Python 3 (ipykernel)",
   "language": "python",
   "name": "python3"
  },
  "language_info": {
   "codemirror_mode": {
    "name": "ipython",
    "version": 3
   },
   "file_extension": ".py",
   "mimetype": "text/x-python",
   "name": "python",
   "nbconvert_exporter": "python",
   "pygments_lexer": "ipython3",
   "version": "3.11.5"
  }
 },
 "nbformat": 4,
 "nbformat_minor": 5
}
