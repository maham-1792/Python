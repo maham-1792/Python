{
 "cells": [
  {
   "cell_type": "markdown",
   "id": "a97576a6",
   "metadata": {},
   "source": [
    "### Assignment-05 (SET)\n",
    "- Change the notebook name with your name and Roll Number.\n",
    "- Try this as your own, no chatgpt (it's for your learning)\n",
    "- after completing the assignment, submit this book on google class room."
   ]
  },
  {
   "cell_type": "markdown",
   "id": "d1ddf3da",
   "metadata": {},
   "source": [
    "    Create an empty set and print it.\n",
    "  "
   ]
  },
  {
   "cell_type": "code",
   "execution_count": 2,
   "id": "c9e9db1e",
   "metadata": {},
   "outputs": [
    {
     "name": "stdout",
     "output_type": "stream",
     "text": [
      "{}\n"
     ]
    }
   ],
   "source": [
    "set1={}\n",
    "print(set1)"
   ]
  },
  {
   "cell_type": "markdown",
   "id": "eeb8fb4d",
   "metadata": {},
   "source": [
    "  Create a set of your favorite colors and print it.\n"
   ]
  },
  {
   "cell_type": "code",
   "execution_count": 4,
   "id": "d8867e41",
   "metadata": {},
   "outputs": [
    {
     "name": "stdout",
     "output_type": "stream",
     "text": [
      "{'mustard', 'orange', 'blue'}\n"
     ]
    }
   ],
   "source": [
    "set1={'mustard','blue','orange'}\n",
    "print(set1)"
   ]
  },
  {
   "cell_type": "markdown",
   "id": "5e724df6",
   "metadata": {},
   "source": [
    "    Create a set that includes a mix of data types (integers, strings, floats)."
   ]
  },
  {
   "cell_type": "code",
   "execution_count": 7,
   "id": "e496901a",
   "metadata": {},
   "outputs": [
    {
     "name": "stdout",
     "output_type": "stream",
     "text": [
      "{'Maham', '6.0', 22}\n"
     ]
    }
   ],
   "source": [
    "set2={'Maham',22,'6.0'}\n",
    "print(set2)"
   ]
  },
  {
   "cell_type": "markdown",
   "id": "d2b80125",
   "metadata": {},
   "source": [
    "Access the elements of a set using a loop and print each element."
   ]
  },
  {
   "cell_type": "code",
   "execution_count": 11,
   "id": "3ceec096",
   "metadata": {},
   "outputs": [
    {
     "name": "stdout",
     "output_type": "stream",
     "text": [
      "Maham\n",
      "6.0\n",
      "22\n"
     ]
    }
   ],
   "source": [
    "set2={'Maham',22,'6.0'}\n",
    "for Maham in set2:\n",
    "    print(Maham)"
   ]
  },
  {
   "cell_type": "markdown",
   "id": "08fdccf7",
   "metadata": {},
   "source": [
    "add a new element to a set using the add() method."
   ]
  },
  {
   "cell_type": "code",
   "execution_count": 12,
   "id": "5d5273f9",
   "metadata": {},
   "outputs": [
    {
     "name": "stdout",
     "output_type": "stream",
     "text": [
      "{'Maham', 'Zain', '6.0', 22}\n"
     ]
    }
   ],
   "source": [
    "set2={'Maham',22,'6.0'}\n",
    "set2.add('Zain')\n",
    "print(set2)"
   ]
  },
  {
   "cell_type": "markdown",
   "id": "c8257b4c",
   "metadata": {},
   "source": [
    "Add multiple elements to a set using the update() method."
   ]
  },
  {
   "cell_type": "code",
   "execution_count": 16,
   "id": "d3fe8634",
   "metadata": {},
   "outputs": [
    {
     "name": "stdout",
     "output_type": "stream",
     "text": [
      "{'Maham', 4, 5, 22, 6, '6.0'}\n"
     ]
    }
   ],
   "source": [
    "set2={'Maham',22,'6.0'}\n",
    "add={4,5,6}\n",
    "set2.update(add)\n",
    "print(set2)"
   ]
  },
  {
   "cell_type": "markdown",
   "id": "e8adbe50",
   "metadata": {},
   "source": [
    "Remove and return an arbitrary element from a set using the pop() method."
   ]
  },
  {
   "cell_type": "code",
   "execution_count": 17,
   "id": "bfdcad15",
   "metadata": {},
   "outputs": [
    {
     "name": "stdout",
     "output_type": "stream",
     "text": [
      "{'6.0', 22}\n"
     ]
    }
   ],
   "source": [
    "set2={'Maham',22,'6.0'}\n",
    "set2.pop()\n",
    "print(set2)"
   ]
  },
  {
   "cell_type": "markdown",
   "id": "6bacfc71",
   "metadata": {},
   "source": [
    "Remove a specific element from a set using the remove() method."
   ]
  },
  {
   "cell_type": "code",
   "execution_count": 18,
   "id": "d7d4d697",
   "metadata": {},
   "outputs": [
    {
     "name": "stdout",
     "output_type": "stream",
     "text": [
      "{'6.0', 22}\n"
     ]
    }
   ],
   "source": [
    "set2={'Maham',22,'6.0'}\n",
    "set2.remove('Maham')\n",
    "print(set2)"
   ]
  },
  {
   "cell_type": "markdown",
   "id": "1844da3c",
   "metadata": {},
   "source": [
    "Remove a specific element from a set using the discard() method."
   ]
  },
  {
   "cell_type": "code",
   "execution_count": 19,
   "id": "36164bf7",
   "metadata": {},
   "outputs": [
    {
     "name": "stdout",
     "output_type": "stream",
     "text": [
      "{'Maham', '6.0'}\n"
     ]
    }
   ],
   "source": [
    "set2={'Maham',22,'6.0'}\n",
    "set2.discard(22)\n",
    "print(set2)"
   ]
  },
  {
   "cell_type": "markdown",
   "id": "8bd3aadb",
   "metadata": {},
   "source": [
    "Convert a string to a set of unique characters."
   ]
  },
  {
   "cell_type": "code",
   "execution_count": 20,
   "id": "5d135ac7",
   "metadata": {},
   "outputs": [
    {
     "name": "stdout",
     "output_type": "stream",
     "text": [
      "String as Set of Unique Characters: {'e', 'd', 'r', 'w', 'o', 'l', 'h', ' '}\n"
     ]
    }
   ],
   "source": [
    "# Sample string\n",
    "my_string = \"hello world\"\n",
    "\n",
    "# Convert the string to a set of unique characters\n",
    "unique_characters_set = set(my_string)\n",
    "\n",
    "# Print the result\n",
    "print(\"String as Set of Unique Characters:\", unique_characters_set)\n"
   ]
  },
  {
   "cell_type": "markdown",
   "id": "6c622821",
   "metadata": {},
   "source": [
    "Convert a set of characters to a string."
   ]
  },
  {
   "cell_type": "code",
   "execution_count": 29,
   "id": "fb3156ac",
   "metadata": {},
   "outputs": [
    {
     "name": "stdout",
     "output_type": "stream",
     "text": [
      "Set as String: edrwolh \n"
     ]
    }
   ],
   "source": [
    "# Sample set of characters\n",
    "characters_set = {'e', 'd', 'r', 'w', 'o', 'l', 'h', ' '}\n",
    "\n",
    "# Convert the set to a string using the join() method\n",
    "result_string = ''.join(characters_set)\n",
    "\n",
    "# Print the result\n",
    "print(\"Set as String:\", result_string)\n"
   ]
  },
  {
   "cell_type": "markdown",
   "id": "9a426c8f",
   "metadata": {},
   "source": [
    "Use the clear() method to remove all elements from a set."
   ]
  },
  {
   "cell_type": "code",
   "execution_count": 30,
   "id": "88a65643",
   "metadata": {},
   "outputs": [
    {
     "name": "stdout",
     "output_type": "stream",
     "text": [
      "set()\n"
     ]
    }
   ],
   "source": [
    "set2={'Maham',22,'6.0'}\n",
    "set2.clear()\n",
    "print(set2)"
   ]
  },
  {
   "cell_type": "markdown",
   "id": "9edea94d",
   "metadata": {},
   "source": [
    "Use the copy() method to create a shallow copy of a set."
   ]
  },
  {
   "cell_type": "code",
   "execution_count": 31,
   "id": "eb4e0b56",
   "metadata": {},
   "outputs": [
    {
     "name": "stdout",
     "output_type": "stream",
     "text": [
      "{'Maham', '6.0', 22}\n"
     ]
    }
   ],
   "source": [
    "set2={'Maham',22,'6.0'}\n",
    "set2.copy()\n",
    "print(set2)"
   ]
  },
  {
   "cell_type": "markdown",
   "id": "cd9c69f0",
   "metadata": {},
   "source": [
    "Use the difference() method to find the difference between two sets."
   ]
  },
  {
   "cell_type": "code",
   "execution_count": 32,
   "id": "2f816d0f",
   "metadata": {},
   "outputs": [
    {
     "name": "stdout",
     "output_type": "stream",
     "text": [
      "{5, 6}\n"
     ]
    }
   ],
   "source": [
    "set2={4,5,6}\n",
    "set3={9,4,7}\n",
    "diff=set2.difference (set3)\n",
    "print(diff)"
   ]
  },
  {
   "cell_type": "markdown",
   "id": "307c3f1a",
   "metadata": {},
   "source": [
    "Create two sets and find their union."
   ]
  },
  {
   "cell_type": "code",
   "execution_count": 36,
   "id": "fac5a114",
   "metadata": {},
   "outputs": [
    {
     "name": "stdout",
     "output_type": "stream",
     "text": [
      "{4, 5, 6, 7, 9}\n"
     ]
    }
   ],
   "source": [
    "set2={4,5,6}\n",
    "set3={9,4,7}\n",
    "un=set2. union(set3)\n",
    "print(un)"
   ]
  },
  {
   "cell_type": "markdown",
   "id": "eaf6ba0c",
   "metadata": {},
   "source": [
    "    Create two sets and find their intersection.\n",
    "   "
   ]
  },
  {
   "cell_type": "code",
   "execution_count": 37,
   "id": "1169662c",
   "metadata": {},
   "outputs": [
    {
     "name": "stdout",
     "output_type": "stream",
     "text": [
      "{4}\n"
     ]
    }
   ],
   "source": [
    "set2={4,5,6}\n",
    "set3={9,4,7}\n",
    "un=set2. intersection(set3)\n",
    "print(un)"
   ]
  },
  {
   "cell_type": "markdown",
   "id": "859e1d7f",
   "metadata": {},
   "source": [
    " Create two sets and find their difference.\n"
   ]
  },
  {
   "cell_type": "code",
   "execution_count": 38,
   "id": "681f05e6",
   "metadata": {},
   "outputs": [
    {
     "name": "stdout",
     "output_type": "stream",
     "text": [
      "{5, 6}\n"
     ]
    }
   ],
   "source": [
    "set2={4,5,6}\n",
    "set3={9,4,7}\n",
    "un=set2. difference(set3)\n",
    "print(un)"
   ]
  },
  {
   "cell_type": "markdown",
   "id": "b1c839f5",
   "metadata": {},
   "source": [
    "    Create two sets and find their symmetric difference."
   ]
  },
  {
   "cell_type": "code",
   "execution_count": 39,
   "id": "c2695bb7",
   "metadata": {},
   "outputs": [
    {
     "name": "stdout",
     "output_type": "stream",
     "text": [
      "{5, 6, 7, 9}\n"
     ]
    }
   ],
   "source": [
    "set2={4,5,6}\n",
    "set3={9,4,7}\n",
    "un=set2. symmetric_difference(set3)\n",
    "print(un)"
   ]
  },
  {
   "cell_type": "markdown",
   "id": "41933917",
   "metadata": {},
   "source": [
    "Check if one set is a subset of another."
   ]
  },
  {
   "cell_type": "code",
   "execution_count": 40,
   "id": "fc3d1fd0",
   "metadata": {},
   "outputs": [
    {
     "name": "stdout",
     "output_type": "stream",
     "text": [
      "False\n"
     ]
    }
   ],
   "source": [
    "set2={4,5,6}\n",
    "set3={9,4,7}\n",
    "un=set2. issubset(set3)\n",
    "print(un)"
   ]
  },
  {
   "cell_type": "markdown",
   "id": "65174e5c",
   "metadata": {},
   "source": [
    "    Check if one set is a superset of another.\n"
   ]
  },
  {
   "cell_type": "code",
   "execution_count": 41,
   "id": "cc34dbf9",
   "metadata": {},
   "outputs": [
    {
     "name": "stdout",
     "output_type": "stream",
     "text": [
      "False\n"
     ]
    }
   ],
   "source": [
    "set2={4,5,6}\n",
    "set3={9,4,7}\n",
    "un=set2. issuperset(set3)\n",
    "print(un)"
   ]
  },
  {
   "cell_type": "markdown",
   "id": "e8b05467",
   "metadata": {},
   "source": [
    "    Check if two sets are disjoint (have no common elements)."
   ]
  },
  {
   "cell_type": "code",
   "execution_count": null,
   "id": "f5e84a48",
   "metadata": {},
   "outputs": [],
   "source": [
    "set2={4,5,6}\n",
    "set3={9,4,7}\n",
    "un=set2. isdisjoint(set3)\n",
    "print(un)"
   ]
  },
  {
   "cell_type": "code",
   "execution_count": null,
   "id": "be97cb57",
   "metadata": {},
   "outputs": [],
   "source": []
  }
 ],
 "metadata": {
  "kernelspec": {
   "display_name": "Python 3 (ipykernel)",
   "language": "python",
   "name": "python3"
  },
  "language_info": {
   "codemirror_mode": {
    "name": "ipython",
    "version": 3
   },
   "file_extension": ".py",
   "mimetype": "text/x-python",
   "name": "python",
   "nbconvert_exporter": "python",
   "pygments_lexer": "ipython3",
   "version": "3.11.5"
  }
 },
 "nbformat": 4,
 "nbformat_minor": 5
}
