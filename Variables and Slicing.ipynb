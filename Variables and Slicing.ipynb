{
 "cells": [
  {
   "cell_type": "markdown",
   "id": "97dd878a",
   "metadata": {},
   "source": [
    "### Assignment-03 (Strings)\n",
    "- Change the notebook name with your name and Roll Number.\n",
    "- Try this as your own, no chatgpt (it's for your learning)\n",
    "- after completing the assignment, submit this book on google class room."
   ]
  },
  {
   "cell_type": "markdown",
   "id": "e2bd2715",
   "metadata": {},
   "source": [
    "Create a string variable with your name and print it.\n"
   ]
  },
  {
   "cell_type": "code",
   "execution_count": 1,
   "id": "bb419df7",
   "metadata": {},
   "outputs": [
    {
     "name": "stdout",
     "output_type": "stream",
     "text": [
      "Maham\n"
     ]
    }
   ],
   "source": [
    "name='Maham'\n",
    "print(name)"
   ]
  },
  {
   "cell_type": "markdown",
   "id": "038709aa",
   "metadata": {},
   "source": [
    "Define a multiline string that includes line breaks and print it.\n"
   ]
  },
  {
   "cell_type": "code",
   "execution_count": 2,
   "id": "707d597b",
   "metadata": {},
   "outputs": [
    {
     "name": "stdout",
     "output_type": "stream",
     "text": [
      "\n",
      "This is multiline string.\n",
      "I myself doing it\n",
      "\n"
     ]
    }
   ],
   "source": [
    "multi_string='''\n",
    "This is multiline string.\n",
    "I myself doing it\n",
    "'''\n",
    "print(multi_string)"
   ]
  },
  {
   "cell_type": "markdown",
   "id": "0c79c559",
   "metadata": {},
   "source": [
    "Access the first character of a string.\n"
   ]
  },
  {
   "cell_type": "code",
   "execution_count": 3,
   "id": "3dd571a7",
   "metadata": {},
   "outputs": [
    {
     "name": "stdout",
     "output_type": "stream",
     "text": [
      "M\n"
     ]
    }
   ],
   "source": [
    "str1='Maham'\n",
    "print(str1[0])"
   ]
  },
  {
   "cell_type": "markdown",
   "id": "eea487fc",
   "metadata": {},
   "source": [
    "Access the last character of a string.\n"
   ]
  },
  {
   "cell_type": "code",
   "execution_count": 4,
   "id": "3efc26a3",
   "metadata": {},
   "outputs": [
    {
     "name": "stdout",
     "output_type": "stream",
     "text": [
      "f\n"
     ]
    }
   ],
   "source": [
    "str2='Maham Asif'\n",
    "print(str2[-1])"
   ]
  },
  {
   "cell_type": "markdown",
   "id": "eafa1f78",
   "metadata": {},
   "source": [
    "Access the second to the fifth character of a string."
   ]
  },
  {
   "cell_type": "code",
   "execution_count": 8,
   "id": "1a183435",
   "metadata": {},
   "outputs": [
    {
     "name": "stdout",
     "output_type": "stream",
     "text": [
      "ifes\n"
     ]
    }
   ],
   "source": [
    "str3='Lifes goes on'\n",
    "print(str3[1:5])"
   ]
  },
  {
   "cell_type": "markdown",
   "id": "345dabe1",
   "metadata": {},
   "source": [
    "Attempt to change a character within an existing string and explain the result.\n"
   ]
  },
  {
   "cell_type": "code",
   "execution_count": 12,
   "id": "4a2c3c34",
   "metadata": {},
   "outputs": [
    {
     "ename": "TypeError",
     "evalue": "'str' object does not support item assignment",
     "output_type": "error",
     "traceback": [
      "\u001b[1;31m---------------------------------------------------------------------------\u001b[0m",
      "\u001b[1;31mTypeError\u001b[0m                                 Traceback (most recent call last)",
      "Cell \u001b[1;32mIn[12], line 2\u001b[0m\n\u001b[0;32m      1\u001b[0m str4\u001b[38;5;241m=\u001b[39m\u001b[38;5;124m'\u001b[39m\u001b[38;5;124mMaham\u001b[39m\u001b[38;5;124m'\u001b[39m\n\u001b[1;32m----> 2\u001b[0m str4[\u001b[38;5;241m1\u001b[39m]\u001b[38;5;241m=\u001b[39m\u001b[38;5;124m'\u001b[39m\u001b[38;5;124mJ\u001b[39m\u001b[38;5;124m'\u001b[39m\n\u001b[0;32m      3\u001b[0m new\u001b[38;5;241m=\u001b[39m\u001b[38;5;124m'\u001b[39m\u001b[38;5;124mJ\u001b[39m\u001b[38;5;124m'\u001b[39m\u001b[38;5;241m+\u001b[39mstr4[\u001b[38;5;241m1\u001b[39m:]\n\u001b[0;32m      4\u001b[0m \u001b[38;5;28mprint\u001b[39m(new)\n",
      "\u001b[1;31mTypeError\u001b[0m: 'str' object does not support item assignment"
     ]
    }
   ],
   "source": [
    "\n",
    "\n",
    "str4='Maham'\n",
    "str4[1]='J'ng \n",
    "\n",
    "#SStrings are immutable. They don't allow changings in existing strings."
   ]
  },
  {
   "cell_type": "code",
   "execution_count": 13,
   "id": "5fe82214",
   "metadata": {},
   "outputs": [
    {
     "name": "stdout",
     "output_type": "stream",
     "text": [
      "Jaham\n"
     ]
    }
   ],
   "source": [
    "str4='Maham'\n",
    "new='J'+str4[1:]\n",
    "print(new)\n",
    "#Here it will print this"
   ]
  },
  {
   "cell_type": "markdown",
   "id": "915097a4",
   "metadata": {},
   "source": [
    "\n",
    "Slice a string to obtain the first 3 characters.\n"
   ]
  },
  {
   "cell_type": "code",
   "execution_count": 14,
   "id": "eeafdee2",
   "metadata": {},
   "outputs": [
    {
     "name": "stdout",
     "output_type": "stream",
     "text": [
      "Smo\n"
     ]
    }
   ],
   "source": [
    "str5='Smooth'\n",
    "print(str5[:3])"
   ]
  },
  {
   "cell_type": "markdown",
   "id": "97f70e4d",
   "metadata": {},
   "source": [
    "Slice a string to obtain the last 4 characters.\n"
   ]
  },
  {
   "cell_type": "code",
   "execution_count": 16,
   "id": "cd07247a",
   "metadata": {},
   "outputs": [
    {
     "name": "stdout",
     "output_type": "stream",
     "text": [
      "ooth\n"
     ]
    }
   ],
   "source": [
    "str6='Smooth'\n",
    "print(str6[-4:])"
   ]
  },
  {
   "cell_type": "markdown",
   "id": "db421ce3",
   "metadata": {},
   "source": [
    "Slice a string to get every second character.\n"
   ]
  },
  {
   "cell_type": "code",
   "execution_count": 18,
   "id": "a8b066a6",
   "metadata": {},
   "outputs": [
    {
     "name": "stdout",
     "output_type": "stream",
     "text": [
      "m\n"
     ]
    }
   ],
   "source": [
    "str7='Smooth'\n",
    "print(str7[1:2])\n"
   ]
  },
  {
   "cell_type": "markdown",
   "id": "ff5b4751",
   "metadata": {},
   "source": [
    "Reverse a string using slicing."
   ]
  },
  {
   "cell_type": "code",
   "execution_count": 19,
   "id": "c4c4c969",
   "metadata": {},
   "outputs": [
    {
     "name": "stdout",
     "output_type": "stream",
     "text": [
      "htoomS\n"
     ]
    }
   ],
   "source": [
    "rev_str='Smooth'\n",
    "print(rev_str[::-1])"
   ]
  },
  {
   "cell_type": "markdown",
   "id": "c8b7f82a",
   "metadata": {},
   "source": [
    "Create two string variables and concatenate them.\n",
    "\n"
   ]
  },
  {
   "cell_type": "code",
   "execution_count": 20,
   "id": "c4d4f5ae",
   "metadata": {},
   "outputs": [
    {
     "name": "stdout",
     "output_type": "stream",
     "text": [
      "MahamAsif\n"
     ]
    }
   ],
   "source": [
    "str1='Maham'\n",
    "str2='Asif'\n",
    "print(str1+str2)"
   ]
  },
  {
   "cell_type": "markdown",
   "id": "13e8d4b1",
   "metadata": {},
   "source": [
    "Concatenate a string with a number (convert the number to a string first)."
   ]
  },
  {
   "cell_type": "code",
   "execution_count": 22,
   "id": "cc366c5e",
   "metadata": {},
   "outputs": [
    {
     "name": "stdout",
     "output_type": "stream",
     "text": [
      "The number is: 42\n"
     ]
    }
   ],
   "source": [
    "my_string = \"The number is: \"\n",
    "my_number = 42\n",
    "result = my_string + str(my_number)\n",
    "print(result)"
   ]
  },
  {
   "cell_type": "markdown",
   "id": "201b3886",
   "metadata": {},
   "source": [
    "Generate a string that repeats \"abc\" 10 times.\n",
    "\n"
   ]
  },
  {
   "cell_type": "code",
   "execution_count": 24,
   "id": "01d068c1",
   "metadata": {},
   "outputs": [
    {
     "name": "stdout",
     "output_type": "stream",
     "text": [
      "abcabcabcabcabcabcabcabcabcabc\n"
     ]
    }
   ],
   "source": [
    "rep_str='abc'\n",
    "print(rep_str*10)"
   ]
  },
  {
   "cell_type": "markdown",
   "id": "c668c12f",
   "metadata": {},
   "source": [
    "Create a string containing a repeating pattern of your choice."
   ]
  },
  {
   "cell_type": "code",
   "execution_count": 25,
   "id": "948db73c",
   "metadata": {},
   "outputs": [
    {
     "name": "stdout",
     "output_type": "stream",
     "text": [
      "SmoSmoSmoSmoSmo\n"
     ]
    }
   ],
   "source": [
    "rep='Smooth Like'\n",
    "print ('Smo'*5)"
   ]
  },
  {
   "cell_type": "markdown",
   "id": "597fce86",
   "metadata": {},
   "source": [
    "Convert a string to lowercase using the lower() method.\n"
   ]
  },
  {
   "cell_type": "code",
   "execution_count": 26,
   "id": "091297bd",
   "metadata": {},
   "outputs": [
    {
     "name": "stdout",
     "output_type": "stream",
     "text": [
      "maham\n"
     ]
    }
   ],
   "source": [
    "up_str='MAHAM'\n",
    "print(up_str.lower())"
   ]
  },
  {
   "cell_type": "markdown",
   "id": "e96bb408",
   "metadata": {},
   "source": [
    "\n",
    "Convert a string to uppercase using the upper() method.\n"
   ]
  },
  {
   "cell_type": "code",
   "execution_count": 27,
   "id": "a2598fc3",
   "metadata": {},
   "outputs": [
    {
     "name": "stdout",
     "output_type": "stream",
     "text": [
      "BUTTER\n"
     ]
    }
   ],
   "source": [
    "up_str='butter'\n",
    "print(up_str.upper())"
   ]
  },
  {
   "cell_type": "markdown",
   "id": "92ab5b20",
   "metadata": {},
   "source": [
    "Remove leading and trailing whitespace from a string using the strip() method.\n"
   ]
  },
  {
   "cell_type": "code",
   "execution_count": 28,
   "id": "0507e93a",
   "metadata": {},
   "outputs": [
    {
     "name": "stdout",
     "output_type": "stream",
     "text": [
      "This is a string with leading and trailing whitespace.\n"
     ]
    }
   ],
   "source": [
    "my_string = \"   This is a string with leading and trailing whitespace.   \"\n",
    "trimmed_string = my_string.strip()\n",
    "print(trimmed_string)"
   ]
  },
  {
   "cell_type": "markdown",
   "id": "a91e7489",
   "metadata": {},
   "source": [
    "Check if a string starts with a specific prefix using the startswith() method.\n"
   ]
  },
  {
   "cell_type": "code",
   "execution_count": 29,
   "id": "3c01dd7d",
   "metadata": {},
   "outputs": [
    {
     "name": "stdout",
     "output_type": "stream",
     "text": [
      "The string starts with the prefix.\n"
     ]
    }
   ],
   "source": [
    "my_string = \"Hello, World!\"\n",
    "prefix = \"Hello\"\n",
    "if my_string.startswith(prefix):\n",
    "    print(\"The string starts with the prefix.\")\n",
    "else:\n",
    "    print(\"The string does not start with the prefix.\")\n"
   ]
  },
  {
   "cell_type": "markdown",
   "id": "4b8b4581",
   "metadata": {},
   "source": [
    "Split a string into a list of words using the split() method.\n"
   ]
  },
  {
   "cell_type": "code",
   "execution_count": 31,
   "id": "5bcc4070",
   "metadata": {},
   "outputs": [
    {
     "name": "stdout",
     "output_type": "stream",
     "text": [
      "['Maham', 'is', 'herself']\n"
     ]
    }
   ],
   "source": [
    "str='Maham is herself'\n",
    "print(str.split())"
   ]
  },
  {
   "cell_type": "markdown",
   "id": "37dd8ff8",
   "metadata": {},
   "source": [
    "Join a list of words into a single string using the join() method."
   ]
  },
  {
   "cell_type": "code",
   "execution_count": 34,
   "id": "473860cd",
   "metadata": {},
   "outputs": [
    {
     "name": "stdout",
     "output_type": "stream",
     "text": [
      "Mahamisherself\n"
     ]
    }
   ],
   "source": [
    "str=['Maham', 'is', 'herself']\n",
    "print(''.join(str))"
   ]
  },
  {
   "cell_type": "code",
   "execution_count": null,
   "id": "1af3ae45",
   "metadata": {},
   "outputs": [],
   "source": []
  }
 ],
 "metadata": {
  "kernelspec": {
   "display_name": "Python 3 (ipykernel)",
   "language": "python",
   "name": "python3"
  },
  "language_info": {
   "codemirror_mode": {
    "name": "ipython",
    "version": 3
   },
   "file_extension": ".py",
   "mimetype": "text/x-python",
   "name": "python",
   "nbconvert_exporter": "python",
   "pygments_lexer": "ipython3",
   "version": "3.11.5"
  }
 },
 "nbformat": 4,
 "nbformat_minor": 5
}
