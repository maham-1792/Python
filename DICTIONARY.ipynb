{
 "cells": [
  {
   "cell_type": "markdown",
   "id": "d3b1242a",
   "metadata": {},
   "source": [
    "### Assignment-05 (DICTIONARY)\n",
    "- Change the notebook name with your name and Roll Number.\n",
    "- Try this as your own, no chatgpt (it's for your learning)\n",
    "- after completing the assignment, submit this book on google class room."
   ]
  },
  {
   "cell_type": "markdown",
   "id": "3079cae1",
   "metadata": {},
   "source": [
    "    Create an empty dictionary and print it.\n"
   ]
  },
  {
   "cell_type": "code",
   "execution_count": 5,
   "id": "1e0b1c0d",
   "metadata": {},
   "outputs": [
    {
     "name": "stdout",
     "output_type": "stream",
     "text": [
      "{}\n"
     ]
    }
   ],
   "source": [
    "dic={}\n",
    "print(dic)"
   ]
  },
  {
   "cell_type": "markdown",
   "id": "c02f03e9",
   "metadata": {},
   "source": [
    "    Create a dictionary representing a person with keys such as 'name', 'age', and 'city'.\n"
   ]
  },
  {
   "cell_type": "code",
   "execution_count": 18,
   "id": "1c55f8a0",
   "metadata": {},
   "outputs": [
    {
     "name": "stdout",
     "output_type": "stream",
     "text": [
      "{'name': 'Maham', 'age': 21, 'city': 'Lahore'}\n"
     ]
    }
   ],
   "source": [
    "dic={'name':'Maham','age':21,'city':'Lahore'}\n",
    "print(dic)"
   ]
  },
  {
   "cell_type": "markdown",
   "id": "3de2a866",
   "metadata": {},
   "source": [
    "    Create a dictionary that includes keys with different data types (strings, integers)."
   ]
  },
  {
   "cell_type": "code",
   "execution_count": 10,
   "id": "89c0b2ee",
   "metadata": {},
   "outputs": [
    {
     "name": "stdout",
     "output_type": "stream",
     "text": [
      "{'name': 'Maham', 'height': 12}\n"
     ]
    }
   ],
   "source": [
    "dict2={'name':'Maham','height':12}\n",
    "print(dict2)"
   ]
  },
  {
   "cell_type": "markdown",
   "id": "41ce050c",
   "metadata": {},
   "source": [
    "Access and print the value associated with a specific key."
   ]
  },
  {
   "cell_type": "code",
   "execution_count": 19,
   "id": "ec5dbc94",
   "metadata": {},
   "outputs": [
    {
     "name": "stdout",
     "output_type": "stream",
     "text": [
      "Name: Maham\n"
     ]
    }
   ],
   "source": [
    "dict1=dic['name']\n",
    "print(\"Name:\", dict1)\n"
   ]
  },
  {
   "cell_type": "markdown",
   "id": "b6b0c37d",
   "metadata": {},
   "source": [
    "    Use the get() method to access a value, providing a default value if the key is not present.\n"
   ]
  },
  {
   "cell_type": "code",
   "execution_count": 20,
   "id": "7aa9e88c",
   "metadata": {},
   "outputs": [
    {
     "name": "stdout",
     "output_type": "stream",
     "text": [
      "Name: Maham\n"
     ]
    }
   ],
   "source": [
    "name_value = dic.get('name', 'Unknown Name')\n",
    "print(\"Name:\", name_value)"
   ]
  },
  {
   "cell_type": "markdown",
   "id": "fd070da0",
   "metadata": {},
   "source": [
    "    Iterate through the keys of a dictionary and print each key."
   ]
  },
  {
   "cell_type": "code",
   "execution_count": 22,
   "id": "20a421cc",
   "metadata": {},
   "outputs": [
    {
     "name": "stdout",
     "output_type": "stream",
     "text": [
      "name\n",
      "age\n",
      "city\n"
     ]
    }
   ],
   "source": [
    "dic={'name':'Maham','age':21,'city':'Lahore'}\n",
    "for key in dic:\n",
    "    print(key)"
   ]
  },
  {
   "cell_type": "markdown",
   "id": "b743bd62",
   "metadata": {},
   "source": [
    "Add a new key-value pair to a dictionary."
   ]
  },
  {
   "cell_type": "code",
   "execution_count": 23,
   "id": "db404144",
   "metadata": {},
   "outputs": [
    {
     "name": "stdout",
     "output_type": "stream",
     "text": [
      "{'name': 'Maham', 'age': 21, 'city': 'Lahore', 'gender': 'Female'}\n"
     ]
    }
   ],
   "source": [
    "dic={'name':'Maham','age':21,'city':'Lahore'}\n",
    "dic['gender']='Female'\n",
    "print(dic)"
   ]
  },
  {
   "cell_type": "markdown",
   "id": "ef13537b",
   "metadata": {},
   "source": [
    "Modify the value associated with an existing key."
   ]
  },
  {
   "cell_type": "code",
   "execution_count": 24,
   "id": "5e655290",
   "metadata": {},
   "outputs": [
    {
     "name": "stdout",
     "output_type": "stream",
     "text": [
      "{'name': 'Ayesha', 'age': 21, 'city': 'Lahore'}\n"
     ]
    }
   ],
   "source": [
    "dic={'name':'Maham','age':21,'city':'Lahore'}\n",
    "dic['name']='Ayesha'\n",
    "print(dic)"
   ]
  },
  {
   "cell_type": "markdown",
   "id": "2ff9fb92",
   "metadata": {},
   "source": [
    "Remove a specific key-value pair from a dictionary using the pop() method.\n",
    "\n"
   ]
  },
  {
   "cell_type": "code",
   "execution_count": 26,
   "id": "1bdb4169",
   "metadata": {},
   "outputs": [
    {
     "name": "stdout",
     "output_type": "stream",
     "text": [
      "{'age': 21, 'city': 'Lahore'}\n"
     ]
    }
   ],
   "source": [
    "dic={'name':'Maham','age':21,'city':'Lahore'}\n",
    "dic.pop('name')\n",
    "print(dic)"
   ]
  },
  {
   "cell_type": "markdown",
   "id": "edc2abf7",
   "metadata": {},
   "source": [
    "    Remove a specific key-value pair from a dictionary using the del statement."
   ]
  },
  {
   "cell_type": "code",
   "execution_count": 30,
   "id": "538eca73",
   "metadata": {},
   "outputs": [
    {
     "name": "stdout",
     "output_type": "stream",
     "text": [
      "{'age': 21, 'city': 'Lahore'}\n"
     ]
    }
   ],
   "source": [
    "dic={'name':'Maham','age':21,'city':'Lahore'}\n",
    "del dic['name']\n",
    "print(dic)"
   ]
  },
  {
   "cell_type": "markdown",
   "id": "0f2d7e6a",
   "metadata": {},
   "source": [
    "Convert a dictionary to a list of keys."
   ]
  },
  {
   "cell_type": "code",
   "execution_count": 31,
   "id": "5705250c",
   "metadata": {},
   "outputs": [
    {
     "name": "stdout",
     "output_type": "stream",
     "text": [
      "['name', 'age', 'city']\n"
     ]
    }
   ],
   "source": [
    "dic={'name':'Maham','age':21,'city':'Lahore'}\n",
    "dic1=list(dic.keys())\n",
    "print(dic1)"
   ]
  },
  {
   "cell_type": "markdown",
   "id": "1191e090",
   "metadata": {},
   "source": [
    "    Convert a dictionary to a list of values.\n"
   ]
  },
  {
   "cell_type": "code",
   "execution_count": 32,
   "id": "e89b908a",
   "metadata": {},
   "outputs": [
    {
     "name": "stdout",
     "output_type": "stream",
     "text": [
      "['Maham', 21, 'Lahore']\n"
     ]
    }
   ],
   "source": [
    "dic={'name':'Maham','age':21,'city':'Lahore'}\n",
    "dic1=list(dic.values())\n",
    "print(dic1)"
   ]
  },
  {
   "cell_type": "markdown",
   "id": "f72c7f5e",
   "metadata": {},
   "source": [
    "    Convert a list of tuples to a dictionary."
   ]
  },
  {
   "cell_type": "markdown",
   "id": "8adb7c9d",
   "metadata": {},
   "source": [
    "\n",
    "    Use the values() method to get a list of values in a dictionary.\n"
   ]
  },
  {
   "cell_type": "code",
   "execution_count": 38,
   "id": "fb8a455c",
   "metadata": {},
   "outputs": [
    {
     "name": "stdout",
     "output_type": "stream",
     "text": [
      "[1, 2, 3]\n"
     ]
    }
   ],
   "source": [
    "my_dict = {'a': 1, 'b': 2, 'c': 3}\n",
    "values_list = list(my_dict.values())\n",
    "print(values_list)\n"
   ]
  },
  {
   "cell_type": "markdown",
   "id": "b4b044e4",
   "metadata": {},
   "source": [
    "    Use the items() method to get a list of key-value pairs in a dictionary."
   ]
  },
  {
   "cell_type": "code",
   "execution_count": 39,
   "id": "ca390b74",
   "metadata": {},
   "outputs": [
    {
     "name": "stdout",
     "output_type": "stream",
     "text": [
      "[('a', 1), ('b', 2), ('c', 3)]\n"
     ]
    }
   ],
   "source": [
    "my_dict = {'a': 1, 'b': 2, 'c': 3}\n",
    "values_list = list(my_dict.items())\n",
    "print(values_list)"
   ]
  },
  {
   "cell_type": "markdown",
   "id": "bd4eb41b",
   "metadata": {},
   "source": [
    "Check if a key is present in a dictionary using the in operator.\n",
    "\n"
   ]
  },
  {
   "cell_type": "code",
   "execution_count": 40,
   "id": "39c2a92f",
   "metadata": {},
   "outputs": [
    {
     "name": "stdout",
     "output_type": "stream",
     "text": [
      "The key \"b\" is present in the dictionary.\n"
     ]
    }
   ],
   "source": [
    "my_dict = {'a': 1, 'b': 2, 'c': 3}\n",
    "key_to_check = 'b'\n",
    "if key_to_check in my_dict:\n",
    "    print(f'The key \"{key_to_check}\" is present in the dictionary.')\n",
    "else:\n",
    "    print(f'The key \"{key_to_check}\" is not present in the dictionary.')\n"
   ]
  },
  {
   "cell_type": "markdown",
   "id": "ba80007f",
   "metadata": {},
   "source": [
    "    Use the setdefault() method to add a key with a default value if it doesn't exist.\n"
   ]
  },
  {
   "cell_type": "code",
   "execution_count": 41,
   "id": "cc19bd44",
   "metadata": {},
   "outputs": [
    {
     "name": "stdout",
     "output_type": "stream",
     "text": [
      "Updated Dictionary: {'a': 1, 'b': 2, 'c': 3, 'd': 0}\n",
      "Value for key \"d\": 0\n"
     ]
    }
   ],
   "source": [
    "# Sample dictionary\n",
    "my_dict = {'a': 1, 'b': 2, 'c': 3}\n",
    "\n",
    "# Using setdefault() to add a key with a default value\n",
    "key_to_add = 'd'\n",
    "default_value = 0\n",
    "\n",
    "# If key is not present, setdefault() adds the key with the default value\n",
    "new_value = my_dict.setdefault(key_to_add, default_value)\n",
    "\n",
    "# Print the updated dictionary\n",
    "print(f'Updated Dictionary: {my_dict}')\n",
    "\n",
    "# Print the value of the newly added key\n",
    "print(f'Value for key \"{key_to_add}\": {new_value}')\n"
   ]
  },
  {
   "cell_type": "markdown",
   "id": "5dd9b173",
   "metadata": {},
   "source": [
    "    Merge two dictionaries using the update() method.\n"
   ]
  },
  {
   "cell_type": "code",
   "execution_count": 42,
   "id": "05e95981",
   "metadata": {},
   "outputs": [
    {
     "name": "stdout",
     "output_type": "stream",
     "text": [
      "Merged Dictionary: {'a': 1, 'b': 3, 'c': 4}\n"
     ]
    }
   ],
   "source": [
    "dict1 = {'a': 1, 'b': 2}\n",
    "dict2 = {'b': 3, 'c': 4}\n",
    "dict1.update(dict2)\n",
    "print(\"Merged Dictionary:\", dict1)\n"
   ]
  },
  {
   "cell_type": "markdown",
   "id": "1415c188",
   "metadata": {},
   "source": [
    "    Use the clear() method to remove all elements from a dictionary."
   ]
  },
  {
   "cell_type": "code",
   "execution_count": 43,
   "id": "bdf48d4c",
   "metadata": {},
   "outputs": [
    {
     "name": "stdout",
     "output_type": "stream",
     "text": [
      "{}\n"
     ]
    }
   ],
   "source": [
    "dict1 = {'a': 1, 'b': 2}\n",
    "dict1.clear()\n",
    "print(dict1)"
   ]
  },
  {
   "cell_type": "code",
   "execution_count": null,
   "id": "310d8596",
   "metadata": {},
   "outputs": [],
   "source": []
  }
 ],
 "metadata": {
  "kernelspec": {
   "display_name": "Python 3 (ipykernel)",
   "language": "python",
   "name": "python3"
  },
  "language_info": {
   "codemirror_mode": {
    "name": "ipython",
    "version": 3
   },
   "file_extension": ".py",
   "mimetype": "text/x-python",
   "name": "python",
   "nbconvert_exporter": "python",
   "pygments_lexer": "ipython3",
   "version": "3.11.5"
  }
 },
 "nbformat": 4,
 "nbformat_minor": 5
}
